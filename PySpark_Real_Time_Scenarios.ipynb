{
  "nbformat": 4,
  "nbformat_minor": 0,
  "metadata": {
    "colab": {
      "provenance": []
    },
    "kernelspec": {
      "name": "python3",
      "display_name": "Python 3"
    },
    "language_info": {
      "name": "python"
    }
  },
  "cells": [
    {
      "cell_type": "markdown",
      "source": [
        "https://github.com/SAISQUARE/raveendratal"
      ],
      "metadata": {
        "id": "9zU4yQtzkoan"
      }
    },
    {
      "cell_type": "code",
      "execution_count": null,
      "metadata": {
        "colab": {
          "base_uri": "https://localhost:8080/"
        },
        "id": "dgM-QA0be6aV",
        "outputId": "68a1b175-790a-4b7d-83fd-f363dbdb075d"
      },
      "outputs": [
        {
          "output_type": "stream",
          "name": "stdout",
          "text": [
            "Looking in indexes: https://pypi.org/simple, https://us-python.pkg.dev/colab-wheels/public/simple/\n",
            "Requirement already satisfied: pyspark in /usr/local/lib/python3.10/dist-packages (3.4.0)\n",
            "Requirement already satisfied: py4j==0.10.9.7 in /usr/local/lib/python3.10/dist-packages (from pyspark) (0.10.9.7)\n"
          ]
        }
      ],
      "source": [
        "!pip install pyspark"
      ]
    },
    {
      "cell_type": "markdown",
      "source": [
        "##  1. How to create partitions based on year and month\n",
        "2022/01\n",
        "2022/02\n",
        "2022/03\n",
        "\n",
        "on premises, traditional databases.\n",
        "Date format: dd-mm-yyyy\n",
        "\n",
        "spark date format: yyyy-MM-dd\n",
        "\n",
        "**Data partitioning:** \n",
        "\n",
        "Is critical to data processing performance especially for large volume of data, Spark data partition is a way to split the data into multiple partitions so that you can execute transformations on multiple partitions in parallel which allows completing the job faster. Partitions are basic units of parallelism in Spark and RDDs, DataFrames and Datasets are collections of partitions. You can use methods like `repartition`, `coalesce`, `partitionBy` and `repartitionByRange` to control the partitioning of your data. Partitioning can also improve the performance of your queries by reducing data shuffling and enabling partition pruning.\n",
        "\n",
        "PySpark partition is a way to split a large dataset into smaller datasets based on one or more partition keys. When you create a DataFrame from a file/table, based on certain parameters PySpark creates the DataFrame with a certain number of partitions in memory. This is one of the main advantages of PySpark DataFrame over Pandas DataFrame. Transformations on partitioned data run faster as they execute transformations parallelly for each partition."
      ],
      "metadata": {
        "id": "htOtiAGkiq3S"
      }
    },
    {
      "cell_type": "code",
      "source": [
        "import pyspark\n",
        "from pyspark.sql import SparkSession"
      ],
      "metadata": {
        "id": "XynDv0XofALD"
      },
      "execution_count": null,
      "outputs": []
    },
    {
      "cell_type": "code",
      "source": [
        "sc = SparkSession.builder.getOrCreate()"
      ],
      "metadata": {
        "id": "ciogi2mYkekr"
      },
      "execution_count": null,
      "outputs": []
    },
    {
      "cell_type": "code",
      "source": [
        "sdf_emp = sc.read.csv(\"emp.csv\", header = True, inferSchema = True)\n",
        "sdf_emp.printSchema()"
      ],
      "metadata": {
        "colab": {
          "base_uri": "https://localhost:8080/"
        },
        "id": "rcxtQneolJ6f",
        "outputId": "5142fa1c-2ca7-48ff-9254-0a5e8186b2c8"
      },
      "execution_count": null,
      "outputs": [
        {
          "output_type": "stream",
          "name": "stdout",
          "text": [
            "root\n",
            " |-- EMPNO: string (nullable = true)\n",
            " |-- ENAME: string (nullable = true)\n",
            " |-- JOB: string (nullable = true)\n",
            " |-- MGR: string (nullable = true)\n",
            " |-- HIREDATE: string (nullable = true)\n",
            " |-- SAL: string (nullable = true)\n",
            " |-- COMM: string (nullable = true)\n",
            " |-- DEPTNO: string (nullable = true)\n",
            " |-- UPDATED_DATE: string (nullable = true)\n",
            "\n"
          ]
        }
      ]
    },
    {
      "cell_type": "code",
      "source": [
        "sdf_emp.show(5)"
      ],
      "metadata": {
        "colab": {
          "base_uri": "https://localhost:8080/"
        },
        "id": "4byMypMRlref",
        "outputId": "b2679ca1-41f6-40df-8f9e-21f378a375e3"
      },
      "execution_count": null,
      "outputs": [
        {
          "output_type": "stream",
          "name": "stdout",
          "text": [
            "+-----+------+--------+----+----------+----+----+------+------------+\n",
            "|EMPNO| ENAME|     JOB| MGR|  HIREDATE| SAL|COMM|DEPTNO|UPDATED_DATE|\n",
            "+-----+------+--------+----+----------+----+----+------+------------+\n",
            "| 7369| SMITH|   CLERK|7902|17-12-1980| 800|null|    20|  2022-01-01|\n",
            "| 7499| ALLEN|SALESMAN|7698|20-02-1981|1600| 300|    30|  2022-01-01|\n",
            "| 7521|  WARD|SALESMAN|7698|22-02-1981|1250| 500|    30|  2022-01-01|\n",
            "| 7566| JONES| MANAGER|7839|04-02-1981|2975|null|    20|  2022-01-05|\n",
            "| 7654|MARTIN|SALESMAN|7698|21-09-1981|1250|1400|    30|  2022-01-03|\n",
            "+-----+------+--------+----+----------+----+----+------+------------+\n",
            "only showing top 5 rows\n",
            "\n"
          ]
        }
      ]
    },
    {
      "cell_type": "code",
      "source": [
        "from pyspark.sql.functions import to_date\n",
        "#change string to Date datetype\n",
        "sdf_emp = sdf_emp.withColumn(\"HIREDATE\", to_date(\"HIREDATE\", \"dd-MM-yyyy\")).fillna({\"HIREDATE\":\"9999-12-31\"})\n",
        "sdf_emp.show(5)\n",
        "sdf_emp.printSchema()"
      ],
      "metadata": {
        "colab": {
          "base_uri": "https://localhost:8080/"
        },
        "id": "uh6QNSVAmsZs",
        "outputId": "8bcf56f8-1f0c-467b-a9fc-05a6d3ae1f25"
      },
      "execution_count": null,
      "outputs": [
        {
          "output_type": "stream",
          "name": "stdout",
          "text": [
            "+-----+------+--------+----+----------+----+----+------+------------+\n",
            "|EMPNO| ENAME|     JOB| MGR|  HIREDATE| SAL|COMM|DEPTNO|UPDATED_DATE|\n",
            "+-----+------+--------+----+----------+----+----+------+------------+\n",
            "| 7369| SMITH|   CLERK|7902|1980-12-17| 800|null|    20|  2022-01-01|\n",
            "| 7499| ALLEN|SALESMAN|7698|1981-02-20|1600| 300|    30|  2022-01-01|\n",
            "| 7521|  WARD|SALESMAN|7698|1981-02-22|1250| 500|    30|  2022-01-01|\n",
            "| 7566| JONES| MANAGER|7839|1981-02-04|2975|null|    20|  2022-01-05|\n",
            "| 7654|MARTIN|SALESMAN|7698|1981-09-21|1250|1400|    30|  2022-01-03|\n",
            "+-----+------+--------+----+----------+----+----+------+------------+\n",
            "only showing top 5 rows\n",
            "\n",
            "root\n",
            " |-- EMPNO: string (nullable = true)\n",
            " |-- ENAME: string (nullable = true)\n",
            " |-- JOB: string (nullable = true)\n",
            " |-- MGR: string (nullable = true)\n",
            " |-- HIREDATE: date (nullable = true)\n",
            " |-- SAL: string (nullable = true)\n",
            " |-- COMM: string (nullable = true)\n",
            " |-- DEPTNO: string (nullable = true)\n",
            " |-- UPDATED_DATE: string (nullable = true)\n",
            "\n"
          ]
        }
      ]
    },
    {
      "cell_type": "code",
      "source": [
        "#creating two year and month new columns base on hiredate date field\n",
        "from pyspark.sql.functions import date_format\n",
        "sdf_emp = (sdf_emp.withColumn(\"YEAR\", date_format(\"HIREDATE\", \"yyyy\"))\n",
        "                  .withColumn(\"MONTH\", date_format(\"HIREDATE\", \"MM\")))\n",
        "sdf_emp.show(5)\n",
        "sdf_emp.printSchema()"
      ],
      "metadata": {
        "colab": {
          "base_uri": "https://localhost:8080/"
        },
        "id": "ihGJk4DDnmwE",
        "outputId": "de36757b-b155-4682-8bc8-2d867ca39de0"
      },
      "execution_count": null,
      "outputs": [
        {
          "output_type": "stream",
          "name": "stdout",
          "text": [
            "+-----+------+--------+----+----------+----+----+------+------------+----+-----+\n",
            "|EMPNO| ENAME|     JOB| MGR|  HIREDATE| SAL|COMM|DEPTNO|UPDATED_DATE|YEAR|MONTH|\n",
            "+-----+------+--------+----+----------+----+----+------+------------+----+-----+\n",
            "| 7369| SMITH|   CLERK|7902|1980-12-17| 800|null|    20|  2022-01-01|1980|   12|\n",
            "| 7499| ALLEN|SALESMAN|7698|1981-02-20|1600| 300|    30|  2022-01-01|1981|   02|\n",
            "| 7521|  WARD|SALESMAN|7698|1981-02-22|1250| 500|    30|  2022-01-01|1981|   02|\n",
            "| 7566| JONES| MANAGER|7839|1981-02-04|2975|null|    20|  2022-01-05|1981|   02|\n",
            "| 7654|MARTIN|SALESMAN|7698|1981-09-21|1250|1400|    30|  2022-01-03|1981|   09|\n",
            "+-----+------+--------+----+----------+----+----+------+------------+----+-----+\n",
            "only showing top 5 rows\n",
            "\n",
            "root\n",
            " |-- EMPNO: string (nullable = true)\n",
            " |-- ENAME: string (nullable = true)\n",
            " |-- JOB: string (nullable = true)\n",
            " |-- MGR: string (nullable = true)\n",
            " |-- HIREDATE: date (nullable = true)\n",
            " |-- SAL: string (nullable = true)\n",
            " |-- COMM: string (nullable = true)\n",
            " |-- DEPTNO: string (nullable = true)\n",
            " |-- UPDATED_DATE: string (nullable = true)\n",
            " |-- YEAR: string (nullable = true)\n",
            " |-- MONTH: string (nullable = true)\n",
            "\n"
          ]
        }
      ]
    },
    {
      "cell_type": "code",
      "source": [
        "#Using PartitionBy with Two Columns creating partitions\n",
        "\n",
        "#partitionBy() multiple columns\n",
        "sdf_emp.write.option(\"header\",True) \\\n",
        "             .partitionBy(\"YEAR\",\"MONTH\") \\\n",
        "             .mode(\"overwrite\") \\\n",
        "             .csv(\"year-month-partitions\")\n"
      ],
      "metadata": {
        "id": "R23Sb7sIoyNx"
      },
      "execution_count": null,
      "outputs": []
    },
    {
      "cell_type": "markdown",
      "source": [
        "## 2. How to handle or how to read variable/dynamic number of column data file\n",
        "\n",
        "This dataset have multiple missing values:\n",
        "\n",
        "![image.png](data:image/png;base64,iVBORw0KGgoAAAANSUhEUgAAAVMAAABVCAYAAAD0ZQfdAAAAAXNSR0IArs4c6QAAAARnQU1BAACxjwv8YQUAAAAJcEhZcwAADsMAAA7DAcdvqGQAABFfSURBVHhe7Z2/b+LYFsdPXrVlZv+BnTcLKRBFZrSVqWa1DaRB0YiWZgTaijR0FFPQ0cB2QVMsmg6tEMUGmqdJs1CNMikQRWBGSLv1JH/ASn7nXF+DTWJfJ77GhJyPZIX42ve3zz332v567++//zaBYRiGCcXe77//zsaUYRgmJHu//vorG1OGYZiQ7P3zzz+xGNN///1X/oqOH374Qf5iGIaJlv/IvwzDMEwI2JgyDMNogI0pwzCMBrQb05ubBSwuz6HXew+9yxu5N36G5T3ItObyPy+GUN7bg71MS/6/AwzLsEdlwk1d/vgI1j6PF8/yBWyfOPrvvJUR+SoP5Q7Gl+huQC3QoN68hOPDfbnDzfbegMIOmbmC01FF/r8b0IVRhA6MKgm5Z3O0MmU4GJ1CVv7P3EZf++jtv5SvxsEITrnxlOz+NF818s+p81nhe3uZe43C9sidKZchI9PYQ8PhimLYcsffskNtL6Isw/E8zKuIxxmHK3+UVgv0+m9zaJWtcoj40atxV8Ecq3AVTl5POZOBZVV6lg+Zt0R5TsZtyNnn4+aqY6Vn5p2/QPWvwrN+A7aPX/mJgJ6nJxH235Y4D9uy5a6/W8lcWe1oh7uTCNk+kffvzbH7xjR7CqZpwqxpyB1OsCGLfch3THGMaXYg369DW4aqSFRGIt7xBKA2s+IYpCdQd/bG7BFUl/GPID/NyQ6fhdNZEww8OYXh+BNyOSseiqMve1yr0YfqyD7fhFH1ABrY4XTRyhQBE1jF3zmAPl4QdgmG5SL0851luInhMJaBhGf5kEQFRri/aZRgYJ+Pm8vL8W0f//wFqn8F3vUbrH18y08oyqckwv5bwXI3jTF0pynoyPozR1WAotvgtU+mnvUbtn2i7t+b5GnfgBr2YVKoQnY5s0pAtlqA+3b7Ug2nsDKObD5t/bCZn0GjuBp569ixXBgFoJldAm0UlPIinmTKCiLPrttuQ1KeK7ZkDtrtqXt0fygUf7om0l+SyEI+3YUz0d+H0J8U0Pg5DsDwUzQay3NU5QuDMn8WvvXvR5D69WsfIsryq9DSfw0oVCuQcMRxVHAMFkhp4FG/Ydsn6v69YfhufqSg55DsQqo2W468ncI9ujpewWmjuTx3tW12/dFxXawRsnxxE7p+H3n542ZL+rcunrYxzeYh3W3AcGkt5jBsdF2zWIG9bnWfBSlifgUTIw1HSWtYng9b0Ojeit0Ha5TPrK/DrfPQ/OE0vDCpu9fI5pY3eiSyTOmfQNFxwFyucYmkApdvAlcyirlYnyv7GGgHyvwFxLN+AtavF6HbNyRa+i9O8xs4LXfEcdZNQz6INQvdPiHrf9ugu/k6t78+vDPfvVvbfvvz1nGLxSLyzTQHZgmAnlZY20oYIpnhMYa93zBLA3mO0ZQHYCwlK6w5kzsks6YhzwM8D3cMSsv/DXmw8xij1DQH4n+Ky5E3OlmeS+fZ54g4zRkGreIAw8B4Brh3hVf+ApUfY2o64jew3Kswwh1O6TcHq4S8yycPQGZYNvTX5PmY9jIsXP6C1D/hXT+EV/0Gax//8qvKFzYcCdF/iaZoT0ccjvYJVr9h20fdvx8L/G6+kjm0MknoFmaxPFakZtvzFzdPvX78y9/KZAA6jjVw5sGwMVUxb0EmOYXatq7jbHv+4uap149P+enRqBN7TYDWLnfs2epNw8aUYRhGA3w3n2EYRgNsTBmGYTTAxpRhGEYDbEwZhmE0wMaUYRhGAxEY0wWc997D+/e09eA8Zk1TemNnSG/dZB6o2uODrYoT5MWjXdfrZJinjvZHoy57Pbh+9TO8fr5PStFw+fEj/n+M/8sDJBt/NGqIBvWqqv3BbdZ7ZBiG0O6ZHh6T4ZSC0Pv78PyF9fPxotDzJPz0Hu33onFb90yD6XGq0vfWk2QYZnNEu2Z6cwkfv76Al2te6WNCqeeJ+Ok9+ulRBtF7VKWv0iNlGGYzRGdM0ZCef7yGV8eHcPeHSx4DAfQ8EU+9x4B463Eq0ic9yAB6kgzDRE8kxvSGPqj3eR9eHr+GR+yULonbLrFdZJjtR7MxvYHL8x58hpdw/Pq58EhvLntwvrBCtxZfvUsfPc/IUaQfVE/SV88SCRvOMIxmY3qzgK9fvsGXT3/IR6Pewx+fvsnAeKBHkoQhyLVhfJK0fmfc35gZ9umrOQY0q7dvyWdPZ1CYFq3zcEsW60JZne7e0w2k5MkY2jlp3MjoyHSsm01o+Ozz8Lhl+vRxNgxVn++fPlEZdQAajhtQxSvIjyrgsqU+5SPChjMMw6pRyK7rXarKFzacYRgi2rv5j4H5GXTHJajtqqFQlS9sOMMwAvZMGYZhNMCeKcMwjAbYmDIMw2iAjSnDMIwG2JgyDMNogI0pwzCMBiIwpjewoNdJ5UP7vfNL3BMn1htD1kPtGSi7XhdSYz30v6YSdR/st4fogfoHRxINrMfKMPrQbkxvLj/CBfwXjt++hbe4vXr2FT7GKBDdytRJkslSVZp1INUt3utV0OypCXcIPgXHRzUqbmzVqiBQPfBD+wzjjXZjun94DMeH2yNvUhmRcLM0AokEHBWsnw/B9uTEZsvcDUlfVO4Tnm9wS73uGdqvvro8wBDxW8Ssxxo6/wzzOIhozfQGLuWnSy6uX6Fx3RIRvnkLit0CPPQV8xmkwTBKMCDtUfv99+wRVDtSa9QcQX6aC+z5rnuG5P2Zg5L8TxIifiJuPdaw+WeYx0JExnQfDo9xmv/mDbzASX8v5u9ACdCQlotoNNZEQIIxhm5xD3LTPHRGK+1RwfwMGhhme291NCxaCRV/3HqsSNT1wzBbQkTGVLKPRvXlC4Cv8WrwzemDeo0DqJIhlPvuSzpdAmPSR+/UyRDKya5QcbI8LxM6BZ1ro3rid0/ON0nU9cMw24N2Y0of1Dtf2J7oDSw+f4Jvz+Ka5lvfR2pAFUanWeGR0jrfrWmmUq/TgFT1FEY1gLpzTXB+BRMjDUdJyy2bD1vQ6K7NoQMwubLMHZ2fyZHcnSRo/J75j1mPNXT+Jcr2YZgtgIROtG6Tifnnh9/Md+/eie23D3+ZkzuOWywWkW/mrGmiH0RCLq6tNEAfycGgRPsNszmTOxw4w6zf1mbIg2dNY7Wv1DQH4n87roFZkmHurYQhkhkeY8j9Bu5vlsTvYPFb+OUfYzCbpVUcYOBxg9txizoZWGnTZqXvn3/1+Tryrw5nmG2AVaMevV7nruef9VSZx0G0a6aPgceu17nr+X/s5WOeDOyZMgzDaIA9U4ZhGA2wMWUYhtEAG1OGYRgNsDFlGIbRABtThgnJfLgSesmUhxDfG2dMnERoTBdwTpqm5/G+SopdHYb0Oumys0u1p8eC/fYP5X1NtUk/QyhTWpmW/P8JELZ+STwnN4GCEHqZQWGSg0YML2p56s1utP/oh97YE9dvxiv/Qa9v2bdvvUXnVlWjwdCNKnxFRMaUVKMu4NkvP8H3ck9czFtFqEMeRvLd8Fqq63q9MgitdVm5TbJRPVQSQRnAmm7VbhOyfudnXYBmRwrHJKBSKy1fD94knnqzW6ynG4REIgvZCr3KfXevDHZ904sfdUgNmrBeC3R+P7VSVeuk6q5XrVXhTiIxpovzj3D96hi2QXmPZOJGlQfKm6DXQSPeybgNOTky0eauTGwo58iFXp072HoXfhmu3TP2Tj+Q3qgrf3foFoSNX8la/Pib0ljiqYdqe9FlGY7p2tNtmYeW2J+BlsNzobB7jaWK9ptNAQpHZMTkcU5tBYHjfMoX5kXE08JyyX1e+Rd4ll8Sueep0sP16h/q9tFBkOubZCintRFUknLHOgfuQejWYKgKl2g3pjeXPbiAV/B6e/ShEWxw2SHr01rw1xITFTHiNUnDVI5MtJ062q6VKQJUR8uwUecA+tih7OpuNfoYvDp3VD2ABl6QuvBLX603ih2+2If8Um+0A/l+HZzmIFz8amjk76ZqMJPxd/Jpt9yqpx4qetEz9DQw8RSG40/I5ax8UB76eEwF671pjKE7TUFH5s8cVQGKwS/moO03LGPihdktPVrhEdmqWZ0qXHXbYDTp1diKMv8ClR5sxJ6nSg/Xu3+o20cf3tc3Dfh1qLmuWSeJilAvwkGABoIyNKYF6DjOV4U70W9Mr7/Bty//E8LQ7//4JH7Hr2eK0y+6IGYzKGDVahvB0XPtpmsubVDSC82nu3BGSVB4uw1JGo3tLZmDdnuqZ2RWpS/x1Bsd9mFSqDr0WROQrRZWU6Gw8QeAOmu6m1vWUbEOMOhUZCii0kM1CiJ/CbzGoZQX+UimrCALAwrVCn1kQUJfWwh4Md+j/a4mBqTWPBhxPva4il05mAlaBnChyr+q/JGi0MMN0j+U7aMD7+t7Nh3DuJ2TbXcifruu//kVWnj0bvH80egUqqmpq28rwx1oN6bPX1vffhLbm5/g+x9/2R6lferMaCygeyZ3RAz2oLTRXI3qy+3huqq7B16ctueHF0MHmydXtD0/9Jzj1EO9R/tVMOPdHF6wOM0fa+tfMZdf4mE7to87rm/x9Qq73chTLg1cnuuwgfXrmP6T0e86rKUq3ElEN6C2h1aG1gHtws+xcnB0StMw6cBed/JaWYYJ2MskQmh6r2x1sEQFCpO6ew1ubo3mYhkNLzkapTOq7x4p0/dAmb6CbB69wgYsq0fUT3c1iwsbv41P+VztQ+4jNo1ht48WvVic5jdw2uko41k3DflAo5m6/cjLEheXXBISF+1IetZUf+ibLusPM9Gqr6+p+qCl/EGYW+ubtK4p91hQ+X30cDfQP1QEur59oPabzhzlu5qAc26lCnfh1BjVuf31wdIzFZqmf05uhd+lP6p7E8zcep44MpnrspgqvczZoLTSRSXNUddxa/EbzZVWqWCG8a/CSU90PQ/e6QfQQ/VJfxZAb9Slp4p5KA1kmhiPPCBc/Ihf/TaxPkuu+nHXrzMNtx6qo24ocZk2pWufQ7ubQr/VUUZX/MHq17f9hGauHSfWFaXnKuda2k3sS+KAYPn3Lr+MW4a5Nzv/QcpH2Met7yfc7e/Uw7Xw6h/ByieO9OkfVtjatuybSIDrm3DG4+ybt/JvZ2qJKnwFq0bhaBavXmbc6UdNvOUjzwU67m9e6YZmK8UTnN7jb7zYxFcdvBiKGyKdHW3rh7A7/Z+N6bwFmeQUanGtY8adftTEWD66w3tiz4pp7dOefm8YZz7Qu4TO6UM+6rij7FD/Z2PKMAyjgZ2/AcUwDLMJ2JgyDMNogI0pwzCMBtiYMgzDaICNKcMwjAb0382/uYQevZMv/wX4EX55+xrWdU82fzefVGxy0C4NwPR5DpBhGOYhRGNMP+/DsUI2arPGlB4MLgLUCtDtH/g+VM0wDPMQnsQ0X6ln6Asa4oj0NlWo9DhtPVH7lWZSWxd5lAfcX8+Ujl3JBzIME5xojKktwUdb7xwWMSrwqfQMVUSpt6lCpcdp64naCIWcQUn+twr30xuNWm+VYZ4K+o3p/iEc2xJ8tP38DC4+x/cdKKWeoYLo9TZVhNDjlHjqjZIeZZR6qwzzhIh+mr+/D8+u43NNVXqGarZYbzMsrLfKMNrQbkwvez3oXa480cXlBXx5tiXi0F7EqreJ+Oo5qvU47W/SUPqZW98g8kOT3moIPUqG2RW0G9PD45/hxfXFcs304voFvNmCD0KJmzMe0/xhnwyQAc3qXf4YTov7RctY4JbEaX7NPi5RQU90AsmkFVbsA+TRM23n6INj5LVieuOTlZFxpN3OOW4c+aaP0/z8wWopIdOAg87Kc0wc0TJEUuZtCrVmCcYnSZEOrRcnT8artMjokRK8DCeypx2oTevL8u3h4LH+7Xf//KnDGeYpwKpR4rGp7dUz3YQepz+q+om7/hhmO2BjusV6pluhx6mqnx3So2SYMLAxZRiG0UD0d/MZhmGeADvtmX73HXumDMNsBvZMGYZhQgPwf0syZXwtwPVCAAAAAElFTkSuQmCC)\n",
        "\n"
      ],
      "metadata": {
        "id": "wzXnaNjCq-l1"
      }
    },
    {
      "cell_type": "markdown",
      "source": [
        "File with columns"
      ],
      "metadata": {
        "id": "cg_rwQ8U0i7B"
      }
    },
    {
      "cell_type": "markdown",
      "source": [
        "File without columns"
      ],
      "metadata": {
        "id": "w1zeOv-20nr4"
      }
    },
    {
      "cell_type": "code",
      "source": [
        "sdf2 = sc.read.csv(\"exercise-2.csv\", inferSchema = True)\n",
        "sdf2.show()"
      ],
      "metadata": {
        "id": "HtgLmETp0o8O",
        "colab": {
          "base_uri": "https://localhost:8080/"
        },
        "outputId": "22885b75-5ced-4d0d-b5f8-d08f973c7fd1"
      },
      "execution_count": null,
      "outputs": [
        {
          "output_type": "stream",
          "name": "stdout",
          "text": [
            "+---+------+--------+----------------+-----+\n",
            "|_c0|   _c1|     _c2|             _c3|  _c4|\n",
            "+---+------+--------+----------------+-----+\n",
            "| id|  name|location|         emailid|phone|\n",
            "|  1|chinco|    null|            null| null|\n",
            "|  2| kalua|   china|            null| null|\n",
            "|  3|   toe|  london|sample@gmail.com|13488|\n",
            "|  4|   sam|    pune|            null| null|\n",
            "+---+------+--------+----------------+-----+\n",
            "\n"
          ]
        }
      ]
    },
    {
      "cell_type": "code",
      "source": [
        "sdf2 = sc.read.text(\"exercise-2.csv\")\n",
        "sdf2.show(truncate=False)"
      ],
      "metadata": {
        "id": "i3fr8iJK0wIq",
        "colab": {
          "base_uri": "https://localhost:8080/"
        },
        "outputId": "78f8911c-919f-444c-abb2-5aebe84f0706"
      },
      "execution_count": null,
      "outputs": [
        {
          "output_type": "stream",
          "name": "stdout",
          "text": [
            "+-----------------------------------+\n",
            "|value                              |\n",
            "+-----------------------------------+\n",
            "|id,name,location,emailid,phone     |\n",
            "|1,chinco,,,                        |\n",
            "|2,kalua,china,,                    |\n",
            "|3,toe,london,sample@gmail.com,13488|\n",
            "|4,sam,pune,,                       |\n",
            "+-----------------------------------+\n",
            "\n"
          ]
        }
      ]
    },
    {
      "cell_type": "code",
      "source": [
        "from pyspark.sql.functions import split\n",
        "\n",
        "#First split each record by \",\"\n",
        "print(\"First split each record by \",\"\") \n",
        "sdf2.withColumn(\"splittable_col\", split(\"value\", \",\").alias(\"splittable_col\")).show(truncate=False)\n",
        "\n",
        "print(\"Dataframe after split data\")\n",
        "#drop the \"value\" column and keep the \"splittable_col\" and save the new df\n",
        "sdf2 = sdf2.withColumn(\"splittable_col\", split(\"value\", \",\").alias(\"splittable_col\")).drop(\"value\")\n",
        "sdf2.show(truncate=False)"
      ],
      "metadata": {
        "colab": {
          "base_uri": "https://localhost:8080/"
        },
        "id": "o6TJEXUv-2MH",
        "outputId": "652ab5c9-6b16-4c97-fa9b-a2ff69f8ae28"
      },
      "execution_count": null,
      "outputs": [
        {
          "output_type": "stream",
          "name": "stdout",
          "text": [
            "First split each record by  \n",
            "+-----------------------------------+-----------------------------------------+\n",
            "|value                              |splittable_col                           |\n",
            "+-----------------------------------+-----------------------------------------+\n",
            "|id,name,location,emailid,phone     |[id, name, location, emailid, phone]     |\n",
            "|1,chinco,,,                        |[1, chinco, , , ]                        |\n",
            "|2,kalua,china,,                    |[2, kalua, china, , ]                    |\n",
            "|3,toe,london,sample@gmail.com,13488|[3, toe, london, sample@gmail.com, 13488]|\n",
            "|4,sam,pune,,                       |[4, sam, pune, , ]                       |\n",
            "+-----------------------------------+-----------------------------------------+\n",
            "\n",
            "Dataframe after split data\n",
            "+-----------------------------------------+\n",
            "|splittable_col                           |\n",
            "+-----------------------------------------+\n",
            "|[id, name, location, emailid, phone]     |\n",
            "|[1, chinco, , , ]                        |\n",
            "|[2, kalua, china, , ]                    |\n",
            "|[3, toe, london, sample@gmail.com, 13488]|\n",
            "|[4, sam, pune, , ]                       |\n",
            "+-----------------------------------------+\n",
            "\n"
          ]
        }
      ]
    },
    {
      "cell_type": "code",
      "source": [
        "from pyspark.sql.functions import size, max\n",
        "\n",
        "#get the length of each list record, upon to get the max value length\n",
        "sdf2.select(\"splittable_col\", size(\"splittable_col\")).show(truncate=False)\n",
        "max_column_length = sdf2.select(max(size(\"splittable_col\"))).collect()[0][0]\n",
        "print(\"Max columns length :\", max_column_length)"
      ],
      "metadata": {
        "colab": {
          "base_uri": "https://localhost:8080/"
        },
        "id": "z-N6KG7xA12O",
        "outputId": "938ddc5d-6654-4a36-cd0d-474e610c9cb6"
      },
      "execution_count": null,
      "outputs": [
        {
          "output_type": "stream",
          "name": "stdout",
          "text": [
            "+-----------------------------------------+--------------------+\n",
            "|splittable_col                           |size(splittable_col)|\n",
            "+-----------------------------------------+--------------------+\n",
            "|[id, name, location, emailid, phone]     |5                   |\n",
            "|[1, chinco, , , ]                        |5                   |\n",
            "|[2, kalua, china, , ]                    |5                   |\n",
            "|[3, toe, london, sample@gmail.com, 13488]|5                   |\n",
            "|[4, sam, pune, , ]                       |5                   |\n",
            "+-----------------------------------------+--------------------+\n",
            "\n",
            "Max columns length : 5\n"
          ]
        }
      ]
    },
    {
      "cell_type": "code",
      "source": [
        "#Iter from 0 to max_value by each record and get the value of the each field from the list\n",
        "#[id -> 0, name -> 1, location -> 2, emailid -> 3, phone -> 4]\n",
        "#by each field create a new column with each value\n",
        "\n",
        "for i in range(max_column_length):\n",
        "  sdf2 = sdf2.withColumn(\"col\" + str(i), sdf2[\"splittable_col\"][i])"
      ],
      "metadata": {
        "id": "TPVqmwG7CqnX"
      },
      "execution_count": null,
      "outputs": []
    },
    {
      "cell_type": "code",
      "source": [
        "print(\"After each iteration\")\n",
        "sdf2.show(truncate=False)\n",
        "\n",
        "#drop the split column \"splittable_col\"\n",
        "final_sdf = sdf2.drop(\"splittable_col\")\n",
        "final_sdf.show()"
      ],
      "metadata": {
        "colab": {
          "base_uri": "https://localhost:8080/"
        },
        "id": "b4FKgRkAEyhS",
        "outputId": "6edda7ae-9c4b-4081-e8dd-0258200274d4"
      },
      "execution_count": null,
      "outputs": [
        {
          "output_type": "stream",
          "name": "stdout",
          "text": [
            "After each iteration\n",
            "+-----------------------------------------+----+------+--------+----------------+-----+\n",
            "|splittable_col                           |col0|col1  |col2    |col3            |col4 |\n",
            "+-----------------------------------------+----+------+--------+----------------+-----+\n",
            "|[id, name, location, emailid, phone]     |id  |name  |location|emailid         |phone|\n",
            "|[1, chinco, , , ]                        |1   |chinco|        |                |     |\n",
            "|[2, kalua, china, , ]                    |2   |kalua |china   |                |     |\n",
            "|[3, toe, london, sample@gmail.com, 13488]|3   |toe   |london  |sample@gmail.com|13488|\n",
            "|[4, sam, pune, , ]                       |4   |sam   |pune    |                |     |\n",
            "+-----------------------------------------+----+------+--------+----------------+-----+\n",
            "\n",
            "+----+------+--------+----------------+-----+\n",
            "|col0|  col1|    col2|            col3| col4|\n",
            "+----+------+--------+----------------+-----+\n",
            "|  id|  name|location|         emailid|phone|\n",
            "|   1|chinco|        |                |     |\n",
            "|   2| kalua|   china|                |     |\n",
            "|   3|   toe|  london|sample@gmail.com|13488|\n",
            "|   4|   sam|    pune|                |     |\n",
            "+----+------+--------+----------------+-----+\n",
            "\n"
          ]
        }
      ]
    },
    {
      "cell_type": "markdown",
      "source": [
        "## 3. How to skip first few rows from data file\n",
        "\n",
        "Cleaning file with record with no meaningful data\n",
        "\n",
        "![image.png](data:image/png;base64,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)\n",
        "\n",
        "\n"
      ],
      "metadata": {
        "id": "3kuP2-z4i1jf"
      }
    },
    {
      "cell_type": "code",
      "source": [
        "sdf = sc.read.csv(\"exercise-3.csv\", header = True)\n",
        "sdf.show()"
      ],
      "metadata": {
        "id": "MLN7VhF3l1PG",
        "colab": {
          "base_uri": "https://localhost:8080/"
        },
        "outputId": "0ea7326f-b174-4b33-fe39-525111567926"
      },
      "execution_count": 76,
      "outputs": [
        {
          "output_type": "stream",
          "name": "stdout",
          "text": [
            "+------+------+---------+\n",
            "| line1|   _c1|      _c2|\n",
            "+------+------+---------+\n",
            "| line2|  null|     null|\n",
            "|Line 3|  null|     null|\n",
            "| line4|  null|     null|\n",
            "|    id|  name|      loc|\n",
            "|     1|  ravi|bangalore|\n",
            "|     2|   raj|  chennai|\n",
            "|     3|prasad|     pune|\n",
            "|     4|sekhar|  chennai|\n",
            "+------+------+---------+\n",
            "\n"
          ]
        }
      ]
    },
    {
      "cell_type": "code",
      "source": [
        "rdd = sc.sparkContext.textFile(\"exercise-3.csv\")\n",
        "rdd.collect()\n",
        "#rdd_final = rdd.zipWithIndex().filter( lambda pair: pair[1] > 3 ).map( lambda element: element[0].split(\",\") ).collect()"
      ],
      "metadata": {
        "id": "GDevdv_zmDEG",
        "colab": {
          "base_uri": "https://localhost:8080/"
        },
        "outputId": "b229564f-d65d-47fd-b3d1-b5e2af82940e"
      },
      "execution_count": 85,
      "outputs": [
        {
          "output_type": "execute_result",
          "data": {
            "text/plain": [
              "['line1,,',\n",
              " 'line2,,',\n",
              " 'Line 3,,',\n",
              " 'line4,,',\n",
              " 'id,name,loc',\n",
              " '1,ravi,bangalore',\n",
              " '2,raj,chennai',\n",
              " '3,prasad,pune',\n",
              " '4,sekhar,chennai']"
            ]
          },
          "metadata": {},
          "execution_count": 85
        }
      ]
    },
    {
      "cell_type": "markdown",
      "source": [
        "`zipWithIndex()` returns a RDD of tuples where the first element of the tuple is the value and the second element is the index. The ordering is first based on the partition index and then the ordering of items within each partition. So the first item in the first partition gets index 0, and the last item in the last partition receives the largest index."
      ],
      "metadata": {
        "id": "cBj3sauISwLs"
      }
    },
    {
      "cell_type": "code",
      "source": [
        "rdd.zipWithIndex().collect()"
      ],
      "metadata": {
        "colab": {
          "base_uri": "https://localhost:8080/"
        },
        "id": "nyjmCgHdSnyM",
        "outputId": "2a248831-3064-412b-8b91-3b8fc287130c"
      },
      "execution_count": 86,
      "outputs": [
        {
          "output_type": "execute_result",
          "data": {
            "text/plain": [
              "[('line1,,', 0),\n",
              " ('line2,,', 1),\n",
              " ('Line 3,,', 2),\n",
              " ('line4,,', 3),\n",
              " ('id,name,loc', 4),\n",
              " ('1,ravi,bangalore', 5),\n",
              " ('2,raj,chennai', 6),\n",
              " ('3,prasad,pune', 7),\n",
              " ('4,sekhar,chennai', 8)]"
            ]
          },
          "metadata": {},
          "execution_count": 86
        }
      ]
    },
    {
      "cell_type": "markdown",
      "source": [
        "Ignore the row 1 to 4 filtering with the index "
      ],
      "metadata": {
        "id": "HtvM6r2EUoXp"
      }
    },
    {
      "cell_type": "code",
      "source": [
        "rdd.zipWithIndex().filter( lambda row: row[1] > 3 ).collect()"
      ],
      "metadata": {
        "colab": {
          "base_uri": "https://localhost:8080/"
        },
        "id": "XTJcvPtvURIK",
        "outputId": "8aafa099-e3a0-4652-ef59-6c0dafacb304"
      },
      "execution_count": 89,
      "outputs": [
        {
          "output_type": "execute_result",
          "data": {
            "text/plain": [
              "[('id,name,loc', 4),\n",
              " ('1,ravi,bangalore', 5),\n",
              " ('2,raj,chennai', 6),\n",
              " ('3,prasad,pune', 7),\n",
              " ('4,sekhar,chennai', 8)]"
            ]
          },
          "metadata": {},
          "execution_count": 89
        }
      ]
    },
    {
      "cell_type": "markdown",
      "source": [
        "Using a map function to only obtain the first elemen of the tuple and ignoring the index value"
      ],
      "metadata": {
        "id": "xCcYxNLMU5YA"
      }
    },
    {
      "cell_type": "code",
      "source": [
        "rdd_final = rdd.zipWithIndex().filter( lambda row: row[1] > 3 ).map( lambda row: row[0].split(\",\") )\n",
        "rdd_final.collect()"
      ],
      "metadata": {
        "colab": {
          "base_uri": "https://localhost:8080/"
        },
        "id": "3m_Y95ptUm3u",
        "outputId": "3d575999-7155-48c0-84f1-578458ea259c"
      },
      "execution_count": 98,
      "outputs": [
        {
          "output_type": "execute_result",
          "data": {
            "text/plain": [
              "[['id', 'name', 'loc'],\n",
              " ['1', 'ravi', 'bangalore'],\n",
              " ['2', 'raj', 'chennai'],\n",
              " ['3', 'prasad', 'pune'],\n",
              " ['4', 'sekhar', 'chennai']]"
            ]
          },
          "metadata": {},
          "execution_count": 98
        }
      ]
    },
    {
      "cell_type": "code",
      "source": [
        "#Separate the columns names with the rest of the data\n",
        "columns = rdd_final.first()\n",
        "data = rdd_final.filter(lambda record: record != columns)\n",
        "\n",
        "sdf = sc.createDataFrame(data, columns)\n",
        "sdf.printSchema()\n",
        "sdf.show()"
      ],
      "metadata": {
        "id": "dI5ZwfvDoZqQ",
        "colab": {
          "base_uri": "https://localhost:8080/"
        },
        "outputId": "fd6218c6-1609-4dba-d5de-e4dafa56642f"
      },
      "execution_count": 104,
      "outputs": [
        {
          "output_type": "stream",
          "name": "stdout",
          "text": [
            "root\n",
            " |-- id: string (nullable = true)\n",
            " |-- name: string (nullable = true)\n",
            " |-- loc: string (nullable = true)\n",
            "\n",
            "+---+------+---------+\n",
            "| id|  name|      loc|\n",
            "+---+------+---------+\n",
            "|  1|  ravi|bangalore|\n",
            "|  2|   raj|  chennai|\n",
            "|  3|prasad|     pune|\n",
            "|  4|sekhar|  chennai|\n",
            "+---+------+---------+\n",
            "\n"
          ]
        }
      ]
    },
    {
      "cell_type": "markdown",
      "source": [
        "## How to handle remove duplicate records based on updated date\n",
        "\n",
        "![image.png](data:image/png;base64,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)\n",
        "\n",
        "\n",
        "1.   `Disctinct(): `is used to return a new DataFrame containing the distinct rows in the original DataFrame1. It eliminates any rows that have the same values on all columns.\n",
        "2.   `dropDuplicates() / drop_duplicates():` If you want to select distinct values on specific columns, you can use the dropDuplicates() function instead2. This function takes a list of columns as an argument and returns a new DataFrame with unique values on those columns\n",
        "\n",
        "The difference between `distinct()` and dropDuplicates() in PySpark is that distinct() performs on all columns of the DataFrame and returns a new DataFrame with only unique rows, whereas dropDuplicates() performs on selected columns of the DataFrame and returns a new DataFrame with unique values on those columns\n",
        "\n",
        "3.   window function with Row_number(): The row_number() function is a window function in PySpark that assigns a sequential number starting from 1 to each row in the result DataFrame12. This function is used with Window.partitionBy() which partitions the data into windows frames and orderBy() clause to sort the rows in each partition.\n",
        "4.   groupBy with Count()"
      ],
      "metadata": {
        "id": "ebDeRu5ZphGU"
      }
    },
    {
      "cell_type": "code",
      "source": [
        "sdf = sc.read.csv(\"exercise-4.csv\", header = True, inferSchema = True)\n",
        "sdf.printSchema()\n",
        "sdf.show()"
      ],
      "metadata": {
        "id": "Ly7R9QJGq4V_",
        "colab": {
          "base_uri": "https://localhost:8080/"
        },
        "outputId": "31cffa94-cf7b-433a-c8ff-c9fbbd3dd8ec"
      },
      "execution_count": 105,
      "outputs": [
        {
          "output_type": "stream",
          "name": "stdout",
          "text": [
            "root\n",
            " |-- id: integer (nullable = true)\n",
            " |-- name: string (nullable = true)\n",
            " |-- loc: string (nullable = true)\n",
            " |-- updated_date: date (nullable = true)\n",
            "\n",
            "+---+------+---------+------------+\n",
            "| id|  name|      loc|updated_date|\n",
            "+---+------+---------+------------+\n",
            "|  1|  ravi|bangalore|  2021-01-01|\n",
            "|  1|  ravi|  chennai|  2022-02-02|\n",
            "|  1|  ravi|Hyderabad|  2022-06-10|\n",
            "|  2|   Raj|bangalore|  2021-01-01|\n",
            "|  2|   Raj|  chennai|  2022-02-02|\n",
            "|  3|   Raj|Hyderabad|  2022-06-10|\n",
            "|  4|Prasad|bangalore|  2021-01-01|\n",
            "|  3|Mahesh|  chennai|  2022-02-02|\n",
            "|  3|Prasad|Hyderabad|  2022-06-10|\n",
            "+---+------+---------+------------+\n",
            "\n"
          ]
        }
      ]
    },
    {
      "cell_type": "code",
      "source": [
        "#Remove the columns with the same id with dropDuplicates()\n",
        "sdf.distinct().show()\n",
        "#There aren't duplicate records"
      ],
      "metadata": {
        "colab": {
          "base_uri": "https://localhost:8080/"
        },
        "id": "-6pP3K5EYI5s",
        "outputId": "f29dbcd4-55d3-4f70-c0db-fa2508fa7150"
      },
      "execution_count": 108,
      "outputs": [
        {
          "output_type": "stream",
          "name": "stdout",
          "text": [
            "+---+------+---------+------------+\n",
            "| id|  name|      loc|updated_date|\n",
            "+---+------+---------+------------+\n",
            "|  2|   Raj|bangalore|  2021-01-01|\n",
            "|  3|Prasad|Hyderabad|  2022-06-10|\n",
            "|  1|  ravi|bangalore|  2021-01-01|\n",
            "|  1|  ravi|Hyderabad|  2022-06-10|\n",
            "|  4|Prasad|bangalore|  2021-01-01|\n",
            "|  3|   Raj|Hyderabad|  2022-06-10|\n",
            "|  2|   Raj|  chennai|  2022-02-02|\n",
            "|  1|  ravi|  chennai|  2022-02-02|\n",
            "|  3|Mahesh|  chennai|  2022-02-02|\n",
            "+---+------+---------+------------+\n",
            "\n"
          ]
        }
      ]
    },
    {
      "cell_type": "code",
      "source": [
        "#Remove the columns with the same column \"id\" with dropDuplicates()\n",
        "sdf.dropDuplicates([\"id\"]).show()"
      ],
      "metadata": {
        "id": "FRERxLnOrId8",
        "colab": {
          "base_uri": "https://localhost:8080/"
        },
        "outputId": "6704f884-2d2b-46ed-ee42-8e1b95ed652c"
      },
      "execution_count": 109,
      "outputs": [
        {
          "output_type": "stream",
          "name": "stdout",
          "text": [
            "+---+------+---------+------------+\n",
            "| id|  name|      loc|updated_date|\n",
            "+---+------+---------+------------+\n",
            "|  1|  ravi|bangalore|  2021-01-01|\n",
            "|  2|   Raj|bangalore|  2021-01-01|\n",
            "|  3|   Raj|Hyderabad|  2022-06-10|\n",
            "|  4|Prasad|bangalore|  2021-01-01|\n",
            "+---+------+---------+------------+\n",
            "\n"
          ]
        }
      ]
    },
    {
      "cell_type": "markdown",
      "source": [
        "remove duplicate records based on updated date considering the columns \"updated_date\" with the latest date\n",
        "\n",
        "\n",
        "`orderBy()`: is used to sort a DataFrame based on one or more columns. It takes one or more columns as arguments and returns a new DataFrame sorted by the specified columns. By default, it sorts in ascending order, but you can also specify the sort order using the ascending parameter or the `desc()` method."
      ],
      "metadata": {
        "id": "VYS7s0b5Yg5Y"
      }
    },
    {
      "cell_type": "code",
      "source": [
        "from pyspark.sql.functions import col\n",
        "\n",
        "print(\"Before drop\")\n",
        "sdf.orderBy(col(\"updated_date\").desc()).show()\n",
        "\n",
        "print(\"after drop only maintaining the latest date\")\n",
        "sdf.orderBy(col(\"updated_date\").desc()).dropDuplicates([\"id\"]).show()"
      ],
      "metadata": {
        "colab": {
          "base_uri": "https://localhost:8080/"
        },
        "id": "ZsAcH_o5Yase",
        "outputId": "40aa6bea-efa3-4128-9d8e-b26233e41568"
      },
      "execution_count": 117,
      "outputs": [
        {
          "output_type": "stream",
          "name": "stdout",
          "text": [
            "Before drop\n",
            "+---+------+---------+------------+\n",
            "| id|  name|      loc|updated_date|\n",
            "+---+------+---------+------------+\n",
            "|  1|  ravi|Hyderabad|  2022-06-10|\n",
            "|  3|   Raj|Hyderabad|  2022-06-10|\n",
            "|  3|Prasad|Hyderabad|  2022-06-10|\n",
            "|  1|  ravi|  chennai|  2022-02-02|\n",
            "|  2|   Raj|  chennai|  2022-02-02|\n",
            "|  3|Mahesh|  chennai|  2022-02-02|\n",
            "|  1|  ravi|bangalore|  2021-01-01|\n",
            "|  2|   Raj|bangalore|  2021-01-01|\n",
            "|  4|Prasad|bangalore|  2021-01-01|\n",
            "+---+------+---------+------------+\n",
            "\n",
            "after drop only maintaining the latest date\n",
            "+---+------+---------+------------+\n",
            "| id|  name|      loc|updated_date|\n",
            "+---+------+---------+------------+\n",
            "|  1|  ravi|Hyderabad|  2022-06-10|\n",
            "|  2|   Raj|  chennai|  2022-02-02|\n",
            "|  3|   Raj|Hyderabad|  2022-06-10|\n",
            "|  4|Prasad|bangalore|  2021-01-01|\n",
            "+---+------+---------+------------+\n",
            "\n"
          ]
        }
      ]
    },
    {
      "cell_type": "code",
      "source": [
        "from pyspark.sql.window import Window\n",
        "from pyspark.sql.functions import row_number\n",
        "\n",
        "sdf = sdf.withColumn(\"rowid\", row_number().over(Window.partitionBy(\"id\").orderBy(col(\"updated_date\").desc())))\n",
        "sdf.show()\n",
        "sdf.filter(\"rowid = 1\").show()"
      ],
      "metadata": {
        "id": "LKxIsTd_smMh"
      },
      "execution_count": null,
      "outputs": []
    },
    {
      "cell_type": "code",
      "source": [
        "from pyspark.sql.window import Window\n",
        "from pyspark.sql.functions import row_number"
      ],
      "metadata": {
        "id": "GpaPM-mTbg1j"
      },
      "execution_count": 118,
      "outputs": []
    },
    {
      "cell_type": "markdown",
      "source": [
        "The `Window.partitionBy()` function in PySpark is used to create a WindowSpec object with the partitioning defined. It takes one or more columns as arguments and returns a WindowSpec object that can be used with window functions to perform calculations over a group of rows that share the same values on the partitioning columns."
      ],
      "metadata": {
        "id": "fRXRpBGOb69k"
      }
    },
    {
      "cell_type": "code",
      "source": [
        "windowSpec = Window.partitionBy(\"id\").orderBy(col(\"updated_date\").desc())"
      ],
      "metadata": {
        "id": "EZGVHpVMbh-Q"
      },
      "execution_count": 125,
      "outputs": []
    },
    {
      "cell_type": "code",
      "source": [
        "sdf = sdf.withColumn(\"rowid\", row_number().over(windowSpec))\n",
        "sdf.show()"
      ],
      "metadata": {
        "colab": {
          "base_uri": "https://localhost:8080/"
        },
        "id": "oFVfsta-bqEo",
        "outputId": "74b1e377-1c0c-4724-f932-a36285f74773"
      },
      "execution_count": 130,
      "outputs": [
        {
          "output_type": "stream",
          "name": "stdout",
          "text": [
            "+---+------+---------+------------+-----+\n",
            "| id|  name|      loc|updated_date|rowid|\n",
            "+---+------+---------+------------+-----+\n",
            "|  1|  ravi|Hyderabad|  2022-06-10|    1|\n",
            "|  1|  ravi|  chennai|  2022-02-02|    2|\n",
            "|  1|  ravi|bangalore|  2021-01-01|    3|\n",
            "|  2|   Raj|  chennai|  2022-02-02|    1|\n",
            "|  2|   Raj|bangalore|  2021-01-01|    2|\n",
            "|  3|   Raj|Hyderabad|  2022-06-10|    1|\n",
            "|  3|Prasad|Hyderabad|  2022-06-10|    2|\n",
            "|  3|Mahesh|  chennai|  2022-02-02|    3|\n",
            "|  4|Prasad|bangalore|  2021-01-01|    1|\n",
            "+---+------+---------+------------+-----+\n",
            "\n"
          ]
        }
      ]
    },
    {
      "cell_type": "code",
      "source": [
        "sdf.filter(col(\"rowid\") == 1).show()"
      ],
      "metadata": {
        "colab": {
          "base_uri": "https://localhost:8080/"
        },
        "id": "Sdtb2tmycnpw",
        "outputId": "20765496-5669-4d1a-daf1-5aeb167dc8ea"
      },
      "execution_count": 131,
      "outputs": [
        {
          "output_type": "stream",
          "name": "stdout",
          "text": [
            "+---+------+---------+------------+-----+\n",
            "| id|  name|      loc|updated_date|rowid|\n",
            "+---+------+---------+------------+-----+\n",
            "|  1|  ravi|Hyderabad|  2022-06-10|    1|\n",
            "|  2|   Raj|  chennai|  2022-02-02|    1|\n",
            "|  3|   Raj|Hyderabad|  2022-06-10|    1|\n",
            "|  4|Prasad|bangalore|  2021-01-01|    1|\n",
            "+---+------+---------+------------+-----+\n",
            "\n"
          ]
        }
      ]
    },
    {
      "cell_type": "code",
      "source": [],
      "metadata": {
        "id": "D9RpaElcdYDt"
      },
      "execution_count": null,
      "outputs": []
    }
  ]
}