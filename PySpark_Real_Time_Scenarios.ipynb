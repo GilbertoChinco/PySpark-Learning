{
  "nbformat": 4,
  "nbformat_minor": 0,
  "metadata": {
    "colab": {
      "provenance": []
    },
    "kernelspec": {
      "name": "python3",
      "display_name": "Python 3"
    },
    "language_info": {
      "name": "python"
    }
  },
  "cells": [
    {
      "cell_type": "markdown",
      "source": [
        "https://github.com/SAISQUARE/raveendratal"
      ],
      "metadata": {
        "id": "9zU4yQtzkoan"
      }
    },
    {
      "cell_type": "code",
      "execution_count": 17,
      "metadata": {
        "colab": {
          "base_uri": "https://localhost:8080/"
        },
        "id": "dgM-QA0be6aV",
        "outputId": "2365f98a-e905-490b-8e5d-23b6b5533a4e"
      },
      "outputs": [
        {
          "output_type": "stream",
          "name": "stdout",
          "text": [
            "Looking in indexes: https://pypi.org/simple, https://us-python.pkg.dev/colab-wheels/public/simple/\n",
            "Requirement already satisfied: pyspark in /usr/local/lib/python3.10/dist-packages (3.4.0)\n",
            "Requirement already satisfied: py4j==0.10.9.7 in /usr/local/lib/python3.10/dist-packages (from pyspark) (0.10.9.7)\n"
          ]
        }
      ],
      "source": [
        "!pip install pyspark"
      ]
    },
    {
      "cell_type": "markdown",
      "source": [
        "##  1. How to create partitions based on year and month\n",
        "2022/01\n",
        "2022/02\n",
        "2022/03\n",
        "\n",
        "on premises, traditional databases.\n",
        "Date format: dd-mm-yyyy\n",
        "\n",
        "spark date format: yyyy-MM-dd\n",
        "\n",
        "**Data partitioning:**\n",
        "\n",
        "Is critical to data processing performance especially for large volume of data, Spark data partition is a way to split the data into multiple partitions so that you can execute transformations on multiple partitions in parallel which allows completing the job faster. Partitions are basic units of parallelism in Spark and RDDs, DataFrames and Datasets are collections of partitions. You can use methods like `repartition`, `coalesce`, `partitionBy` and `repartitionByRange` to control the partitioning of your data. Partitioning can also improve the performance of your queries by reducing data shuffling and enabling partition pruning.\n",
        "\n",
        "PySpark partition is a way to split a large dataset into smaller datasets based on one or more partition keys. When you create a DataFrame from a file/table, based on certain parameters PySpark creates the DataFrame with a certain number of partitions in memory. This is one of the main advantages of PySpark DataFrame over Pandas DataFrame. Transformations on partitioned data run faster as they execute transformations parallelly for each partition."
      ],
      "metadata": {
        "id": "htOtiAGkiq3S"
      }
    },
    {
      "cell_type": "code",
      "source": [
        "import pyspark\n",
        "from pyspark.sql import SparkSession"
      ],
      "metadata": {
        "id": "XynDv0XofALD"
      },
      "execution_count": null,
      "outputs": []
    },
    {
      "cell_type": "code",
      "source": [
        "sc = SparkSession.builder.getOrCreate()"
      ],
      "metadata": {
        "id": "ciogi2mYkekr"
      },
      "execution_count": null,
      "outputs": []
    },
    {
      "cell_type": "code",
      "source": [
        "sdf_emp = sc.read.csv(\"emp.csv\", header = True, inferSchema = True)\n",
        "sdf_emp.printSchema()"
      ],
      "metadata": {
        "colab": {
          "base_uri": "https://localhost:8080/"
        },
        "id": "rcxtQneolJ6f",
        "outputId": "5142fa1c-2ca7-48ff-9254-0a5e8186b2c8"
      },
      "execution_count": null,
      "outputs": [
        {
          "output_type": "stream",
          "name": "stdout",
          "text": [
            "root\n",
            " |-- EMPNO: string (nullable = true)\n",
            " |-- ENAME: string (nullable = true)\n",
            " |-- JOB: string (nullable = true)\n",
            " |-- MGR: string (nullable = true)\n",
            " |-- HIREDATE: string (nullable = true)\n",
            " |-- SAL: string (nullable = true)\n",
            " |-- COMM: string (nullable = true)\n",
            " |-- DEPTNO: string (nullable = true)\n",
            " |-- UPDATED_DATE: string (nullable = true)\n",
            "\n"
          ]
        }
      ]
    },
    {
      "cell_type": "code",
      "source": [
        "sdf_emp.show(5)"
      ],
      "metadata": {
        "colab": {
          "base_uri": "https://localhost:8080/"
        },
        "id": "4byMypMRlref",
        "outputId": "b2679ca1-41f6-40df-8f9e-21f378a375e3"
      },
      "execution_count": null,
      "outputs": [
        {
          "output_type": "stream",
          "name": "stdout",
          "text": [
            "+-----+------+--------+----+----------+----+----+------+------------+\n",
            "|EMPNO| ENAME|     JOB| MGR|  HIREDATE| SAL|COMM|DEPTNO|UPDATED_DATE|\n",
            "+-----+------+--------+----+----------+----+----+------+------------+\n",
            "| 7369| SMITH|   CLERK|7902|17-12-1980| 800|null|    20|  2022-01-01|\n",
            "| 7499| ALLEN|SALESMAN|7698|20-02-1981|1600| 300|    30|  2022-01-01|\n",
            "| 7521|  WARD|SALESMAN|7698|22-02-1981|1250| 500|    30|  2022-01-01|\n",
            "| 7566| JONES| MANAGER|7839|04-02-1981|2975|null|    20|  2022-01-05|\n",
            "| 7654|MARTIN|SALESMAN|7698|21-09-1981|1250|1400|    30|  2022-01-03|\n",
            "+-----+------+--------+----+----------+----+----+------+------------+\n",
            "only showing top 5 rows\n",
            "\n"
          ]
        }
      ]
    },
    {
      "cell_type": "code",
      "source": [
        "from pyspark.sql.functions import to_date\n",
        "#change string to Date datetype\n",
        "sdf_emp = sdf_emp.withColumn(\"HIREDATE\", to_date(\"HIREDATE\", \"dd-MM-yyyy\")).fillna({\"HIREDATE\":\"9999-12-31\"})\n",
        "sdf_emp.show(5)\n",
        "sdf_emp.printSchema()"
      ],
      "metadata": {
        "colab": {
          "base_uri": "https://localhost:8080/"
        },
        "id": "uh6QNSVAmsZs",
        "outputId": "8bcf56f8-1f0c-467b-a9fc-05a6d3ae1f25"
      },
      "execution_count": null,
      "outputs": [
        {
          "output_type": "stream",
          "name": "stdout",
          "text": [
            "+-----+------+--------+----+----------+----+----+------+------------+\n",
            "|EMPNO| ENAME|     JOB| MGR|  HIREDATE| SAL|COMM|DEPTNO|UPDATED_DATE|\n",
            "+-----+------+--------+----+----------+----+----+------+------------+\n",
            "| 7369| SMITH|   CLERK|7902|1980-12-17| 800|null|    20|  2022-01-01|\n",
            "| 7499| ALLEN|SALESMAN|7698|1981-02-20|1600| 300|    30|  2022-01-01|\n",
            "| 7521|  WARD|SALESMAN|7698|1981-02-22|1250| 500|    30|  2022-01-01|\n",
            "| 7566| JONES| MANAGER|7839|1981-02-04|2975|null|    20|  2022-01-05|\n",
            "| 7654|MARTIN|SALESMAN|7698|1981-09-21|1250|1400|    30|  2022-01-03|\n",
            "+-----+------+--------+----+----------+----+----+------+------------+\n",
            "only showing top 5 rows\n",
            "\n",
            "root\n",
            " |-- EMPNO: string (nullable = true)\n",
            " |-- ENAME: string (nullable = true)\n",
            " |-- JOB: string (nullable = true)\n",
            " |-- MGR: string (nullable = true)\n",
            " |-- HIREDATE: date (nullable = true)\n",
            " |-- SAL: string (nullable = true)\n",
            " |-- COMM: string (nullable = true)\n",
            " |-- DEPTNO: string (nullable = true)\n",
            " |-- UPDATED_DATE: string (nullable = true)\n",
            "\n"
          ]
        }
      ]
    },
    {
      "cell_type": "code",
      "source": [
        "#creating two year and month new columns base on hiredate date field\n",
        "from pyspark.sql.functions import date_format\n",
        "sdf_emp = (sdf_emp.withColumn(\"YEAR\", date_format(\"HIREDATE\", \"yyyy\"))\n",
        "                  .withColumn(\"MONTH\", date_format(\"HIREDATE\", \"MM\")))\n",
        "sdf_emp.show(5)\n",
        "sdf_emp.printSchema()"
      ],
      "metadata": {
        "colab": {
          "base_uri": "https://localhost:8080/"
        },
        "id": "ihGJk4DDnmwE",
        "outputId": "de36757b-b155-4682-8bc8-2d867ca39de0"
      },
      "execution_count": null,
      "outputs": [
        {
          "output_type": "stream",
          "name": "stdout",
          "text": [
            "+-----+------+--------+----+----------+----+----+------+------------+----+-----+\n",
            "|EMPNO| ENAME|     JOB| MGR|  HIREDATE| SAL|COMM|DEPTNO|UPDATED_DATE|YEAR|MONTH|\n",
            "+-----+------+--------+----+----------+----+----+------+------------+----+-----+\n",
            "| 7369| SMITH|   CLERK|7902|1980-12-17| 800|null|    20|  2022-01-01|1980|   12|\n",
            "| 7499| ALLEN|SALESMAN|7698|1981-02-20|1600| 300|    30|  2022-01-01|1981|   02|\n",
            "| 7521|  WARD|SALESMAN|7698|1981-02-22|1250| 500|    30|  2022-01-01|1981|   02|\n",
            "| 7566| JONES| MANAGER|7839|1981-02-04|2975|null|    20|  2022-01-05|1981|   02|\n",
            "| 7654|MARTIN|SALESMAN|7698|1981-09-21|1250|1400|    30|  2022-01-03|1981|   09|\n",
            "+-----+------+--------+----+----------+----+----+------+------------+----+-----+\n",
            "only showing top 5 rows\n",
            "\n",
            "root\n",
            " |-- EMPNO: string (nullable = true)\n",
            " |-- ENAME: string (nullable = true)\n",
            " |-- JOB: string (nullable = true)\n",
            " |-- MGR: string (nullable = true)\n",
            " |-- HIREDATE: date (nullable = true)\n",
            " |-- SAL: string (nullable = true)\n",
            " |-- COMM: string (nullable = true)\n",
            " |-- DEPTNO: string (nullable = true)\n",
            " |-- UPDATED_DATE: string (nullable = true)\n",
            " |-- YEAR: string (nullable = true)\n",
            " |-- MONTH: string (nullable = true)\n",
            "\n"
          ]
        }
      ]
    },
    {
      "cell_type": "code",
      "source": [
        "#Using PartitionBy with Two Columns creating partitions\n",
        "\n",
        "#partitionBy() multiple columns\n",
        "sdf_emp.write.option(\"header\",True) \\\n",
        "             .partitionBy(\"YEAR\",\"MONTH\") \\\n",
        "             .mode(\"overwrite\") \\\n",
        "             .csv(\"year-month-partitions\")\n"
      ],
      "metadata": {
        "id": "R23Sb7sIoyNx"
      },
      "execution_count": null,
      "outputs": []
    },
    {
      "cell_type": "markdown",
      "source": [
        "## 2. How to handle or how to read variable/dynamic number of column data file\n",
        "\n",
        "This dataset have multiple missing values:\n",
        "\n",
        "![image.png](data:image/png;base64,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)\n",
        "\n"
      ],
      "metadata": {
        "id": "wzXnaNjCq-l1"
      }
    },
    {
      "cell_type": "markdown",
      "source": [
        "File with columns"
      ],
      "metadata": {
        "id": "cg_rwQ8U0i7B"
      }
    },
    {
      "cell_type": "markdown",
      "source": [
        "File without columns"
      ],
      "metadata": {
        "id": "w1zeOv-20nr4"
      }
    },
    {
      "cell_type": "code",
      "source": [
        "sdf2 = sc.read.csv(\"exercise-2.csv\", inferSchema = True)\n",
        "sdf2.show()"
      ],
      "metadata": {
        "id": "HtgLmETp0o8O",
        "colab": {
          "base_uri": "https://localhost:8080/"
        },
        "outputId": "22885b75-5ced-4d0d-b5f8-d08f973c7fd1"
      },
      "execution_count": null,
      "outputs": [
        {
          "output_type": "stream",
          "name": "stdout",
          "text": [
            "+---+------+--------+----------------+-----+\n",
            "|_c0|   _c1|     _c2|             _c3|  _c4|\n",
            "+---+------+--------+----------------+-----+\n",
            "| id|  name|location|         emailid|phone|\n",
            "|  1|chinco|    null|            null| null|\n",
            "|  2| kalua|   china|            null| null|\n",
            "|  3|   toe|  london|sample@gmail.com|13488|\n",
            "|  4|   sam|    pune|            null| null|\n",
            "+---+------+--------+----------------+-----+\n",
            "\n"
          ]
        }
      ]
    },
    {
      "cell_type": "code",
      "source": [
        "sdf2 = sc.read.text(\"exercise-2.csv\")\n",
        "sdf2.show(truncate=False)"
      ],
      "metadata": {
        "id": "i3fr8iJK0wIq",
        "colab": {
          "base_uri": "https://localhost:8080/"
        },
        "outputId": "78f8911c-919f-444c-abb2-5aebe84f0706"
      },
      "execution_count": null,
      "outputs": [
        {
          "output_type": "stream",
          "name": "stdout",
          "text": [
            "+-----------------------------------+\n",
            "|value                              |\n",
            "+-----------------------------------+\n",
            "|id,name,location,emailid,phone     |\n",
            "|1,chinco,,,                        |\n",
            "|2,kalua,china,,                    |\n",
            "|3,toe,london,sample@gmail.com,13488|\n",
            "|4,sam,pune,,                       |\n",
            "+-----------------------------------+\n",
            "\n"
          ]
        }
      ]
    },
    {
      "cell_type": "code",
      "source": [
        "from pyspark.sql.functions import split\n",
        "\n",
        "#First split each record by \",\"\n",
        "print(\"First split each record by \",\"\")\n",
        "sdf2.withColumn(\"splittable_col\", split(\"value\", \",\").alias(\"splittable_col\")).show(truncate=False)\n",
        "\n",
        "print(\"Dataframe after split data\")\n",
        "#drop the \"value\" column and keep the \"splittable_col\" and save the new df\n",
        "sdf2 = sdf2.withColumn(\"splittable_col\", split(\"value\", \",\").alias(\"splittable_col\")).drop(\"value\")\n",
        "sdf2.show(truncate=False)"
      ],
      "metadata": {
        "colab": {
          "base_uri": "https://localhost:8080/"
        },
        "id": "o6TJEXUv-2MH",
        "outputId": "652ab5c9-6b16-4c97-fa9b-a2ff69f8ae28"
      },
      "execution_count": null,
      "outputs": [
        {
          "output_type": "stream",
          "name": "stdout",
          "text": [
            "First split each record by  \n",
            "+-----------------------------------+-----------------------------------------+\n",
            "|value                              |splittable_col                           |\n",
            "+-----------------------------------+-----------------------------------------+\n",
            "|id,name,location,emailid,phone     |[id, name, location, emailid, phone]     |\n",
            "|1,chinco,,,                        |[1, chinco, , , ]                        |\n",
            "|2,kalua,china,,                    |[2, kalua, china, , ]                    |\n",
            "|3,toe,london,sample@gmail.com,13488|[3, toe, london, sample@gmail.com, 13488]|\n",
            "|4,sam,pune,,                       |[4, sam, pune, , ]                       |\n",
            "+-----------------------------------+-----------------------------------------+\n",
            "\n",
            "Dataframe after split data\n",
            "+-----------------------------------------+\n",
            "|splittable_col                           |\n",
            "+-----------------------------------------+\n",
            "|[id, name, location, emailid, phone]     |\n",
            "|[1, chinco, , , ]                        |\n",
            "|[2, kalua, china, , ]                    |\n",
            "|[3, toe, london, sample@gmail.com, 13488]|\n",
            "|[4, sam, pune, , ]                       |\n",
            "+-----------------------------------------+\n",
            "\n"
          ]
        }
      ]
    },
    {
      "cell_type": "code",
      "source": [
        "from pyspark.sql.functions import size, max\n",
        "\n",
        "#get the length of each list record, upon to get the max value length\n",
        "sdf2.select(\"splittable_col\", size(\"splittable_col\")).show(truncate=False)\n",
        "max_column_length = sdf2.select(max(size(\"splittable_col\"))).collect()[0][0]\n",
        "print(\"Max columns length :\", max_column_length)"
      ],
      "metadata": {
        "colab": {
          "base_uri": "https://localhost:8080/"
        },
        "id": "z-N6KG7xA12O",
        "outputId": "938ddc5d-6654-4a36-cd0d-474e610c9cb6"
      },
      "execution_count": null,
      "outputs": [
        {
          "output_type": "stream",
          "name": "stdout",
          "text": [
            "+-----------------------------------------+--------------------+\n",
            "|splittable_col                           |size(splittable_col)|\n",
            "+-----------------------------------------+--------------------+\n",
            "|[id, name, location, emailid, phone]     |5                   |\n",
            "|[1, chinco, , , ]                        |5                   |\n",
            "|[2, kalua, china, , ]                    |5                   |\n",
            "|[3, toe, london, sample@gmail.com, 13488]|5                   |\n",
            "|[4, sam, pune, , ]                       |5                   |\n",
            "+-----------------------------------------+--------------------+\n",
            "\n",
            "Max columns length : 5\n"
          ]
        }
      ]
    },
    {
      "cell_type": "code",
      "source": [
        "#Iter from 0 to max_value by each record and get the value of the each field from the list\n",
        "#[id -> 0, name -> 1, location -> 2, emailid -> 3, phone -> 4]\n",
        "#by each field create a new column with each value\n",
        "\n",
        "for i in range(max_column_length):\n",
        "  sdf2 = sdf2.withColumn(\"col\" + str(i), sdf2[\"splittable_col\"][i])"
      ],
      "metadata": {
        "id": "TPVqmwG7CqnX"
      },
      "execution_count": null,
      "outputs": []
    },
    {
      "cell_type": "code",
      "source": [
        "print(\"After each iteration\")\n",
        "sdf2.show(truncate=False)\n",
        "\n",
        "#drop the split column \"splittable_col\"\n",
        "final_sdf = sdf2.drop(\"splittable_col\")\n",
        "final_sdf.show()"
      ],
      "metadata": {
        "colab": {
          "base_uri": "https://localhost:8080/"
        },
        "id": "b4FKgRkAEyhS",
        "outputId": "6edda7ae-9c4b-4081-e8dd-0258200274d4"
      },
      "execution_count": null,
      "outputs": [
        {
          "output_type": "stream",
          "name": "stdout",
          "text": [
            "After each iteration\n",
            "+-----------------------------------------+----+------+--------+----------------+-----+\n",
            "|splittable_col                           |col0|col1  |col2    |col3            |col4 |\n",
            "+-----------------------------------------+----+------+--------+----------------+-----+\n",
            "|[id, name, location, emailid, phone]     |id  |name  |location|emailid         |phone|\n",
            "|[1, chinco, , , ]                        |1   |chinco|        |                |     |\n",
            "|[2, kalua, china, , ]                    |2   |kalua |china   |                |     |\n",
            "|[3, toe, london, sample@gmail.com, 13488]|3   |toe   |london  |sample@gmail.com|13488|\n",
            "|[4, sam, pune, , ]                       |4   |sam   |pune    |                |     |\n",
            "+-----------------------------------------+----+------+--------+----------------+-----+\n",
            "\n",
            "+----+------+--------+----------------+-----+\n",
            "|col0|  col1|    col2|            col3| col4|\n",
            "+----+------+--------+----------------+-----+\n",
            "|  id|  name|location|         emailid|phone|\n",
            "|   1|chinco|        |                |     |\n",
            "|   2| kalua|   china|                |     |\n",
            "|   3|   toe|  london|sample@gmail.com|13488|\n",
            "|   4|   sam|    pune|                |     |\n",
            "+----+------+--------+----------------+-----+\n",
            "\n"
          ]
        }
      ]
    },
    {
      "cell_type": "markdown",
      "source": [
        "## 3. How to skip first few rows from data file\n",
        "\n",
        "Cleaning file with record with no meaningful data\n",
        "\n",
        "![image.png](data:image/png;base64,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)\n",
        "\n",
        "\n"
      ],
      "metadata": {
        "id": "3kuP2-z4i1jf"
      }
    },
    {
      "cell_type": "code",
      "source": [
        "sdf = sc.read.csv(\"exercise-3.csv\", header = True)\n",
        "sdf.show()"
      ],
      "metadata": {
        "id": "MLN7VhF3l1PG",
        "colab": {
          "base_uri": "https://localhost:8080/"
        },
        "outputId": "0ea7326f-b174-4b33-fe39-525111567926"
      },
      "execution_count": null,
      "outputs": [
        {
          "output_type": "stream",
          "name": "stdout",
          "text": [
            "+------+------+---------+\n",
            "| line1|   _c1|      _c2|\n",
            "+------+------+---------+\n",
            "| line2|  null|     null|\n",
            "|Line 3|  null|     null|\n",
            "| line4|  null|     null|\n",
            "|    id|  name|      loc|\n",
            "|     1|  ravi|bangalore|\n",
            "|     2|   raj|  chennai|\n",
            "|     3|prasad|     pune|\n",
            "|     4|sekhar|  chennai|\n",
            "+------+------+---------+\n",
            "\n"
          ]
        }
      ]
    },
    {
      "cell_type": "code",
      "source": [
        "rdd = sc.sparkContext.textFile(\"exercise-3.csv\")\n",
        "rdd.collect()\n",
        "#rdd_final = rdd.zipWithIndex().filter( lambda pair: pair[1] > 3 ).map( lambda element: element[0].split(\",\") ).collect()"
      ],
      "metadata": {
        "id": "GDevdv_zmDEG",
        "colab": {
          "base_uri": "https://localhost:8080/"
        },
        "outputId": "b229564f-d65d-47fd-b3d1-b5e2af82940e"
      },
      "execution_count": null,
      "outputs": [
        {
          "output_type": "execute_result",
          "data": {
            "text/plain": [
              "['line1,,',\n",
              " 'line2,,',\n",
              " 'Line 3,,',\n",
              " 'line4,,',\n",
              " 'id,name,loc',\n",
              " '1,ravi,bangalore',\n",
              " '2,raj,chennai',\n",
              " '3,prasad,pune',\n",
              " '4,sekhar,chennai']"
            ]
          },
          "metadata": {},
          "execution_count": 85
        }
      ]
    },
    {
      "cell_type": "markdown",
      "source": [
        "`zipWithIndex()` returns a RDD of tuples where the first element of the tuple is the value and the second element is the index. The ordering is first based on the partition index and then the ordering of items within each partition. So the first item in the first partition gets index 0, and the last item in the last partition receives the largest index."
      ],
      "metadata": {
        "id": "cBj3sauISwLs"
      }
    },
    {
      "cell_type": "code",
      "source": [
        "rdd.zipWithIndex().collect()"
      ],
      "metadata": {
        "colab": {
          "base_uri": "https://localhost:8080/"
        },
        "id": "nyjmCgHdSnyM",
        "outputId": "2a248831-3064-412b-8b91-3b8fc287130c"
      },
      "execution_count": null,
      "outputs": [
        {
          "output_type": "execute_result",
          "data": {
            "text/plain": [
              "[('line1,,', 0),\n",
              " ('line2,,', 1),\n",
              " ('Line 3,,', 2),\n",
              " ('line4,,', 3),\n",
              " ('id,name,loc', 4),\n",
              " ('1,ravi,bangalore', 5),\n",
              " ('2,raj,chennai', 6),\n",
              " ('3,prasad,pune', 7),\n",
              " ('4,sekhar,chennai', 8)]"
            ]
          },
          "metadata": {},
          "execution_count": 86
        }
      ]
    },
    {
      "cell_type": "markdown",
      "source": [
        "Ignore the row 1 to 4 filtering with the index"
      ],
      "metadata": {
        "id": "HtvM6r2EUoXp"
      }
    },
    {
      "cell_type": "code",
      "source": [
        "rdd.zipWithIndex().filter( lambda row: row[1] > 3 ).collect()"
      ],
      "metadata": {
        "colab": {
          "base_uri": "https://localhost:8080/"
        },
        "id": "XTJcvPtvURIK",
        "outputId": "8aafa099-e3a0-4652-ef59-6c0dafacb304"
      },
      "execution_count": null,
      "outputs": [
        {
          "output_type": "execute_result",
          "data": {
            "text/plain": [
              "[('id,name,loc', 4),\n",
              " ('1,ravi,bangalore', 5),\n",
              " ('2,raj,chennai', 6),\n",
              " ('3,prasad,pune', 7),\n",
              " ('4,sekhar,chennai', 8)]"
            ]
          },
          "metadata": {},
          "execution_count": 89
        }
      ]
    },
    {
      "cell_type": "markdown",
      "source": [
        "Using a map function to only obtain the first elemen of the tuple and ignoring the index value"
      ],
      "metadata": {
        "id": "xCcYxNLMU5YA"
      }
    },
    {
      "cell_type": "code",
      "source": [
        "rdd_final = rdd.zipWithIndex().filter( lambda row: row[1] > 3 ).map( lambda row: row[0].split(\",\") )\n",
        "rdd_final.collect()"
      ],
      "metadata": {
        "colab": {
          "base_uri": "https://localhost:8080/"
        },
        "id": "3m_Y95ptUm3u",
        "outputId": "3d575999-7155-48c0-84f1-578458ea259c"
      },
      "execution_count": null,
      "outputs": [
        {
          "output_type": "execute_result",
          "data": {
            "text/plain": [
              "[['id', 'name', 'loc'],\n",
              " ['1', 'ravi', 'bangalore'],\n",
              " ['2', 'raj', 'chennai'],\n",
              " ['3', 'prasad', 'pune'],\n",
              " ['4', 'sekhar', 'chennai']]"
            ]
          },
          "metadata": {},
          "execution_count": 98
        }
      ]
    },
    {
      "cell_type": "code",
      "source": [
        "#Separate the columns names with the rest of the data\n",
        "columns = rdd_final.first()\n",
        "data = rdd_final.filter(lambda record: record != columns)\n",
        "\n",
        "sdf = sc.createDataFrame(data, columns)\n",
        "sdf.printSchema()\n",
        "sdf.show()"
      ],
      "metadata": {
        "id": "dI5ZwfvDoZqQ",
        "colab": {
          "base_uri": "https://localhost:8080/"
        },
        "outputId": "fd6218c6-1609-4dba-d5de-e4dafa56642f"
      },
      "execution_count": null,
      "outputs": [
        {
          "output_type": "stream",
          "name": "stdout",
          "text": [
            "root\n",
            " |-- id: string (nullable = true)\n",
            " |-- name: string (nullable = true)\n",
            " |-- loc: string (nullable = true)\n",
            "\n",
            "+---+------+---------+\n",
            "| id|  name|      loc|\n",
            "+---+------+---------+\n",
            "|  1|  ravi|bangalore|\n",
            "|  2|   raj|  chennai|\n",
            "|  3|prasad|     pune|\n",
            "|  4|sekhar|  chennai|\n",
            "+---+------+---------+\n",
            "\n"
          ]
        }
      ]
    },
    {
      "cell_type": "markdown",
      "source": [
        "## 4. How to handle remove duplicate records based on updated date\n",
        "\n",
        "![image.png](data:image/png;base64,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)\n",
        "\n",
        "\n",
        "1.   `Disctinct(): `is used to return a new DataFrame containing the distinct rows in the original DataFrame1. It eliminates any rows that have the same values on all columns.\n",
        "2.   `dropDuplicates() / drop_duplicates():` If you want to select distinct values on specific columns, you can use the dropDuplicates() function instead2. This function takes a list of columns as an argument and returns a new DataFrame with unique values on those columns\n",
        "\n",
        "The difference between `distinct()` and dropDuplicates() in PySpark is that distinct() performs on all columns of the DataFrame and returns a new DataFrame with only unique rows, whereas dropDuplicates() performs on selected columns of the DataFrame and returns a new DataFrame with unique values on those columns\n",
        "\n",
        "3.   window function with Row_number(): The row_number() function is a window function in PySpark that assigns a sequential number starting from 1 to each row in the result DataFrame12. This function is used with Window.partitionBy() which partitions the data into windows frames and orderBy() clause to sort the rows in each partition.\n",
        "4.   groupBy with Count()"
      ],
      "metadata": {
        "id": "ebDeRu5ZphGU"
      }
    },
    {
      "cell_type": "code",
      "source": [
        "sdf = sc.read.csv(\"exercise-4.csv\", header = True, inferSchema = True)\n",
        "sdf.printSchema()\n",
        "sdf.show()"
      ],
      "metadata": {
        "id": "Ly7R9QJGq4V_",
        "colab": {
          "base_uri": "https://localhost:8080/"
        },
        "outputId": "31cffa94-cf7b-433a-c8ff-c9fbbd3dd8ec"
      },
      "execution_count": null,
      "outputs": [
        {
          "output_type": "stream",
          "name": "stdout",
          "text": [
            "root\n",
            " |-- id: integer (nullable = true)\n",
            " |-- name: string (nullable = true)\n",
            " |-- loc: string (nullable = true)\n",
            " |-- updated_date: date (nullable = true)\n",
            "\n",
            "+---+------+---------+------------+\n",
            "| id|  name|      loc|updated_date|\n",
            "+---+------+---------+------------+\n",
            "|  1|  ravi|bangalore|  2021-01-01|\n",
            "|  1|  ravi|  chennai|  2022-02-02|\n",
            "|  1|  ravi|Hyderabad|  2022-06-10|\n",
            "|  2|   Raj|bangalore|  2021-01-01|\n",
            "|  2|   Raj|  chennai|  2022-02-02|\n",
            "|  3|   Raj|Hyderabad|  2022-06-10|\n",
            "|  4|Prasad|bangalore|  2021-01-01|\n",
            "|  3|Mahesh|  chennai|  2022-02-02|\n",
            "|  3|Prasad|Hyderabad|  2022-06-10|\n",
            "+---+------+---------+------------+\n",
            "\n"
          ]
        }
      ]
    },
    {
      "cell_type": "code",
      "source": [
        "#Remove the columns with the same id with dropDuplicates()\n",
        "sdf.distinct().show()\n",
        "#There aren't duplicate records"
      ],
      "metadata": {
        "colab": {
          "base_uri": "https://localhost:8080/"
        },
        "id": "-6pP3K5EYI5s",
        "outputId": "f29dbcd4-55d3-4f70-c0db-fa2508fa7150"
      },
      "execution_count": null,
      "outputs": [
        {
          "output_type": "stream",
          "name": "stdout",
          "text": [
            "+---+------+---------+------------+\n",
            "| id|  name|      loc|updated_date|\n",
            "+---+------+---------+------------+\n",
            "|  2|   Raj|bangalore|  2021-01-01|\n",
            "|  3|Prasad|Hyderabad|  2022-06-10|\n",
            "|  1|  ravi|bangalore|  2021-01-01|\n",
            "|  1|  ravi|Hyderabad|  2022-06-10|\n",
            "|  4|Prasad|bangalore|  2021-01-01|\n",
            "|  3|   Raj|Hyderabad|  2022-06-10|\n",
            "|  2|   Raj|  chennai|  2022-02-02|\n",
            "|  1|  ravi|  chennai|  2022-02-02|\n",
            "|  3|Mahesh|  chennai|  2022-02-02|\n",
            "+---+------+---------+------------+\n",
            "\n"
          ]
        }
      ]
    },
    {
      "cell_type": "code",
      "source": [
        "#Remove the columns with the same column \"id\" with dropDuplicates()\n",
        "sdf.dropDuplicates([\"id\"]).show()"
      ],
      "metadata": {
        "id": "FRERxLnOrId8",
        "colab": {
          "base_uri": "https://localhost:8080/"
        },
        "outputId": "6704f884-2d2b-46ed-ee42-8e1b95ed652c"
      },
      "execution_count": null,
      "outputs": [
        {
          "output_type": "stream",
          "name": "stdout",
          "text": [
            "+---+------+---------+------------+\n",
            "| id|  name|      loc|updated_date|\n",
            "+---+------+---------+------------+\n",
            "|  1|  ravi|bangalore|  2021-01-01|\n",
            "|  2|   Raj|bangalore|  2021-01-01|\n",
            "|  3|   Raj|Hyderabad|  2022-06-10|\n",
            "|  4|Prasad|bangalore|  2021-01-01|\n",
            "+---+------+---------+------------+\n",
            "\n"
          ]
        }
      ]
    },
    {
      "cell_type": "markdown",
      "source": [
        "remove duplicate records based on updated date considering the columns \"updated_date\" with the latest date\n",
        "\n",
        "\n",
        "`orderBy()`: is used to sort a DataFrame based on one or more columns. It takes one or more columns as arguments and returns a new DataFrame sorted by the specified columns. By default, it sorts in ascending order, but you can also specify the sort order using the ascending parameter or the `desc()` method."
      ],
      "metadata": {
        "id": "VYS7s0b5Yg5Y"
      }
    },
    {
      "cell_type": "code",
      "source": [
        "from pyspark.sql.functions import col\n",
        "\n",
        "print(\"Before drop\")\n",
        "sdf.orderBy(col(\"updated_date\").desc()).show()\n",
        "\n",
        "print(\"after drop only maintaining the latest date\")\n",
        "sdf.orderBy(col(\"updated_date\").desc()).dropDuplicates([\"id\"]).show()"
      ],
      "metadata": {
        "colab": {
          "base_uri": "https://localhost:8080/"
        },
        "id": "ZsAcH_o5Yase",
        "outputId": "40aa6bea-efa3-4128-9d8e-b26233e41568"
      },
      "execution_count": null,
      "outputs": [
        {
          "output_type": "stream",
          "name": "stdout",
          "text": [
            "Before drop\n",
            "+---+------+---------+------------+\n",
            "| id|  name|      loc|updated_date|\n",
            "+---+------+---------+------------+\n",
            "|  1|  ravi|Hyderabad|  2022-06-10|\n",
            "|  3|   Raj|Hyderabad|  2022-06-10|\n",
            "|  3|Prasad|Hyderabad|  2022-06-10|\n",
            "|  1|  ravi|  chennai|  2022-02-02|\n",
            "|  2|   Raj|  chennai|  2022-02-02|\n",
            "|  3|Mahesh|  chennai|  2022-02-02|\n",
            "|  1|  ravi|bangalore|  2021-01-01|\n",
            "|  2|   Raj|bangalore|  2021-01-01|\n",
            "|  4|Prasad|bangalore|  2021-01-01|\n",
            "+---+------+---------+------------+\n",
            "\n",
            "after drop only maintaining the latest date\n",
            "+---+------+---------+------------+\n",
            "| id|  name|      loc|updated_date|\n",
            "+---+------+---------+------------+\n",
            "|  1|  ravi|Hyderabad|  2022-06-10|\n",
            "|  2|   Raj|  chennai|  2022-02-02|\n",
            "|  3|   Raj|Hyderabad|  2022-06-10|\n",
            "|  4|Prasad|bangalore|  2021-01-01|\n",
            "+---+------+---------+------------+\n",
            "\n"
          ]
        }
      ]
    },
    {
      "cell_type": "code",
      "source": [
        "from pyspark.sql.window import Window\n",
        "from pyspark.sql.functions import row_number\n",
        "\n",
        "sdf = sdf.withColumn(\"rowid\", row_number().over(Window.partitionBy(\"id\").orderBy(col(\"updated_date\").desc())))\n",
        "sdf.show()\n",
        "sdf.filter(\"rowid = 1\").show()"
      ],
      "metadata": {
        "id": "LKxIsTd_smMh"
      },
      "execution_count": null,
      "outputs": []
    },
    {
      "cell_type": "code",
      "source": [
        "from pyspark.sql.window import Window\n",
        "from pyspark.sql.functions import row_number"
      ],
      "metadata": {
        "id": "GpaPM-mTbg1j"
      },
      "execution_count": null,
      "outputs": []
    },
    {
      "cell_type": "markdown",
      "source": [
        "The `Window.partitionBy()` function in PySpark is used to create a WindowSpec object with the partitioning defined. It takes one or more columns as arguments and returns a WindowSpec object that can be used with window functions to perform calculations over a group of rows that share the same values on the partitioning columns."
      ],
      "metadata": {
        "id": "fRXRpBGOb69k"
      }
    },
    {
      "cell_type": "code",
      "source": [
        "windowSpec = Window.partitionBy(\"id\").orderBy(col(\"updated_date\").desc())"
      ],
      "metadata": {
        "id": "EZGVHpVMbh-Q"
      },
      "execution_count": null,
      "outputs": []
    },
    {
      "cell_type": "code",
      "source": [
        "sdf = sdf.withColumn(\"rowid\", row_number().over(windowSpec))\n",
        "sdf.show()"
      ],
      "metadata": {
        "colab": {
          "base_uri": "https://localhost:8080/"
        },
        "id": "oFVfsta-bqEo",
        "outputId": "74b1e377-1c0c-4724-f932-a36285f74773"
      },
      "execution_count": null,
      "outputs": [
        {
          "output_type": "stream",
          "name": "stdout",
          "text": [
            "+---+------+---------+------------+-----+\n",
            "| id|  name|      loc|updated_date|rowid|\n",
            "+---+------+---------+------------+-----+\n",
            "|  1|  ravi|Hyderabad|  2022-06-10|    1|\n",
            "|  1|  ravi|  chennai|  2022-02-02|    2|\n",
            "|  1|  ravi|bangalore|  2021-01-01|    3|\n",
            "|  2|   Raj|  chennai|  2022-02-02|    1|\n",
            "|  2|   Raj|bangalore|  2021-01-01|    2|\n",
            "|  3|   Raj|Hyderabad|  2022-06-10|    1|\n",
            "|  3|Prasad|Hyderabad|  2022-06-10|    2|\n",
            "|  3|Mahesh|  chennai|  2022-02-02|    3|\n",
            "|  4|Prasad|bangalore|  2021-01-01|    1|\n",
            "+---+------+---------+------------+-----+\n",
            "\n"
          ]
        }
      ]
    },
    {
      "cell_type": "code",
      "source": [
        "sdf.filter(col(\"rowid\") == 1).show()"
      ],
      "metadata": {
        "colab": {
          "base_uri": "https://localhost:8080/"
        },
        "id": "Sdtb2tmycnpw",
        "outputId": "20765496-5669-4d1a-daf1-5aeb167dc8ea"
      },
      "execution_count": null,
      "outputs": [
        {
          "output_type": "stream",
          "name": "stdout",
          "text": [
            "+---+------+---------+------------+-----+\n",
            "| id|  name|      loc|updated_date|rowid|\n",
            "+---+------+---------+------------+-----+\n",
            "|  1|  ravi|Hyderabad|  2022-06-10|    1|\n",
            "|  2|   Raj|  chennai|  2022-02-02|    1|\n",
            "|  3|   Raj|Hyderabad|  2022-06-10|    1|\n",
            "|  4|Prasad|bangalore|  2021-01-01|    1|\n",
            "+---+------+---------+------------+-----+\n",
            "\n"
          ]
        }
      ]
    },
    {
      "cell_type": "markdown",
      "source": [
        "# 5.- How to get No of rows for each file\n",
        "\n",
        "File 1:\n",
        "![image.png](data:image/png;base64,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)\n",
        "\n",
        "File 2:\n",
        "![image.png](data:image/png;base64,iVBORw0KGgoAAAANSUhEUgAAAMcAAABfCAYAAABcMNPoAAAAAXNSR0IArs4c6QAAAARnQU1BAACxjwv8YQUAAAAJcEhZcwAADsMAAA7DAcdvqGQAAA74SURBVHhe7Z2/bxrZFse/fn8B2X9gvVlIYVE41lZD82ylgTTIimhpIiihoaPYgo4G0mGleCgdWiGKBJon+xULVeRQIBfByVJsHfMHrMQ7d35xwZ5fzOAZ8PlII+O5M3fuhTn3ngvnO+fg77//XmDL/PPPP/or/xz+71B/Bcz+PdNfAT///LP+imGC4V/6X4Zh1mDjYBgLfBnHfD7DbHyFbvc9uuO5vjd8BsUDpJq3+n9WDFA8OMBBqqn/vwcMijgQfaLNuf+ME76MIxY7xOHxKc5PftX3RIN0a4FhKa7/Z0UarUUfBf2/vSDdwmKxwLSh6DsYP+yXW+U0ct7SbJHSyg8OUigO9P0uuG2mtHqLRaT0axykijT/SAyaq/U3jVJjlirq5XQetVWtR65jpX3iWk0EO/7folnU+qHWT7Pm6ltwS2/hslzMqsVUCk91Etov47AdOenGy/eQbS/UYxaLNrK9Gi70UifipaFa72gCVKdaHf3kBDX5zkm/RsWsf4jsTUY3QJqlpg0odPIRldNLZDJaPaKOnn6HNus9VIbG+TT7VV6gTgYSFM1UHnSBZf3tF+iRARg9GBTz6GXbZvmCyjHSC58gT2dBPuhhkqsgbXpbcaQrOXh1QArVlllHOpvUXhjcfkI9vxz5a2RIKyg5CG8vTvccClm1nsSRVkRTEzoXF0gYo7bYEhlcXNysje4bIupPVtXrm8TTyCY7+KRaxwC9SQ6t5RuklrfIyB091D3l6RjH1qGZKdHBUXVqjrztnAfTI4tJKo3lqG1uZIz6IY/BE/WgHuTpGEc6i2SnjoH56ZN/Xe/c9xqMdYuXBYng9ismShKvE9owe0vrj3rHi0+ijeIpc51iwabti5eQm9RW1w+0xhGzxWu1yeL6ZeSlA271NZDXS+0LvoxjdvUe79/T9t9v+PH5D+11d6yXPjb6ope2RHmEUTmhuyfGgpdchHYWPdPtEf51FYVReeXr3EFPrEIUNCqr47VYkIt6LzL6zSJu0syFeh118U83Xzs3QSKh1U/LG2Rp5rjIiAWtmFXKGIlrGXfaRcb80sCoM91qo3pT09tHGy2GU1Qg389W7XPuP1AatoG6tCDPf0V2WCIHUyPdmiJ3kzfLE/maOhO2HnPqihAcPrLCLS1aE+jkpi6+Cg6DqLdvv+A1hwwtqDujAqpRvfGi3r49g2cOhrGAZw6GsYCNg2EsYONgGAvYOBjGAjYOhrHAp3HMcNXVfwh838VVyJoO8YvuoFlEKmURlRsR3OlNVhHniEjfCHdL+2HU+IEx0g11hy/jGHevgZM3ePv2Ld6+OcOz75e4Wn67+ujE42mkSy0Mq9FWabjTm6wizom8TGPP9CS+jOP4/BynhzHtn1gMh8+1l7uKNjpro546A4lRUNZbWOo1lueao6Y0iprhKUGMrFOpDaJtcjU27XOlRxEhKHLd9B6o5xhttanfHfZ6Esf3f+t6l1WCW3PMx7j8/hwvl7/R7RxidF70CxiV86jdZNEWuo12FgnjE7DUa2jnihFTaeihHWIUpbqUQh+LYck4yOfIOkK5hmUb1Fgx6eaxaZ8bPUozpcVSaXVX8LVzseyPwKZ+NzjpSZze/23rXdYJxjjIMK4u73Byfgx9HtlplEYbw1aa3DT6h1w19a/AQa8RL7XVyF/jw27SAbl7AYJ+UNBol5btobZVckuxlKOehLDUowi9B3IoGYV0kdK6e+qifksc9SRLHnz/t613eQDfxjEXD1j4EsPL81Ps8KThAhFZ66TXiKs3a118WuRC3bsZtoqb9vlh2/U7EILexYdxzDG+6uILXuL89FCdMebjbqgLclcYfr8Xf0DgUq8RL1VBvsrms4Zt+8itypMboo+0og35ThJZcRm/ehKh96C5w/Sy6CLNmiQiDqJ+Wz2JEy71LkEiAg832iYfF+9+/33x+9r24c/7x85ms8A2/AfmJu8XkLsqgihXN6WhlhloxyiLxlTfYdJfkBNx7/xCXy8myGc39yuFxqKv/n+/LvU4+USVh+snR4dKlli1z9zfbyxovNbOVehc6Ti79sllatP6heWx5sWojYpUd6MglTn1303/potGQaqDPptlmfP7L87vS+dDUagdfdq7HZ5YVC7rNbwwaKZQA/n/kXyvtk9w31btAqzXcKQpfVVau8mh/UQNQ8B6Doax4GnNHAzjATYOhrGAjYNhLGDjYBgL2DgYxgKfxjHX8nOoeo736F6NaU+YyFGbImp0LWjnsbhtIiU9TC0IjKharz/sh8EmepUo4ss45uNLXOMXnAs9B20nz77jMkTBk4gqhRH7M23jqJMP52aKlzAMOObHiKrdBTbRq0QRX8YROz7H+XF0wg1Lw+HyKeHxOF7ntJdu8aPnEMg/oBn1eMNFfoyvYlYyytdmJxu9g5Oew1/+EZ0g9CoRIoA1xxxjXSp7fXdCxhKRoHVybfKdHLzE/vnRcwhKktZA1OMVN/kxLso31noMG72Dk57DX/4RHVYCrhPD8bmQyb7Bc3KyIpEbkAyjmKebSHpIshc21XP4w11+jELfRo/hQu9gm1+E8JV/ZM8IwDh0YmQkL58D38ONWb8V7lD9BY2gQcf5P46eYWNnZOt6h5D1HCHgyzjGXaHfMGaKOWZfPuPHs7DcKk2fXEdFG/XFHvKj7y3It6zncMTy+n7zY2xZ7xBU/3cJWXfheZtMFh8/vDO1HO8+/LmYPHCcrLvwu1nqOaaSzkHa1mUVj6HnUOmvaiEMrK8vWNU7CL1CQxdsyNe21mNY6x2czndTv33/3elVdgnWc2wJMWvl72khoq4nYWSCW3PsAlvVS5ALpC9UxZZ/SAsRdT0JswLrORjGgqc1czCMB9g4GMYCNg6GsYCNg2EsYONgGAsCMo4ZroSmI/THHUrRtLRt+yncMtvWW/itX4s45vweXgjAOERU7jWevfoNP+l7wuK2mUcNWQz12J/qUWclHGObbFtv4bd+EXEc+WDZiEX1+jaO2dUl7k7OEYVIdXEDDUubhNnpP+ClirpeoYgBjWJe9RwqG+otNLT4sGV5Ss1hsYJd/W7g/B7L8x08C1/GIR4cfY0TnEZH70SIEA2t87WbqsswjTRa0waU0QRHbTFyAZmMpmsQmgbzEf8u8lNsqrcQiJmvc1TFVC9vZ5Prcg7b+p3h/B5e8nv4M467H/jx7b9aTsA/Pquvw9dzxDXR0XSKHDlZnnxXJadqJ+Iv6HUhq+oaEkdakYoLPYMfvYV4QnuykzGPydON3G/riW90LOt3Bef38JLfw5dxHJ5q2nEtJyCtOX59FR0loPhwKjmg80nf4Reakv3oGVzpLWgGM0Y2Mu42NT+T317molV89s+RbdfvwAZ6lwAW5NGhmRL6DWMYIb+zXsYoKaYBidD0HM56i5X2i+GOmq6st98J2/5xfg9PehdZd7Hp9ueHZX6Odx8n98pl3YXfzVLPIZiu5X/QtQwyD+spJC2CEDPoWgZZ5yB2G6+1ujfJf2GfX6KhFBaFlfJl/g139Vv1T9rP+T2W5Q75PVjPsVdEq3+7nt9jr9wqR/ZdTxGB/u1Tfg/WczCMBU9r5mAYD7BxMIwFbBwMYwEbB8NYwMbBMBb4M4752MzNoW1XCFvRoTHQomw9/gpup3kIXq+ht3E96jYktq1HCZLHyv/hf+b49dUyvurtKcIP0BU/hNVw1G/Aa+SOneYheL2GeEh0H2uheaGxbT1KkDxW/o+9c6vEY/xvqkOUEvqODTFGUnWTwqJt9RROeoUVPYGIo9L3Gzic76hXcITzf3jBv3EYIeti65JbFWLEuvgAaqiiFcBjxadIQlEK6AtNgJTKwFZPYatXoBsr30PWLG8j26tBCs1zOF8bMUWQlGX+EAc4/4c3/BlH7NhMeaZuZ89w/SW8Vcf0ZoTRRUYbXRJl9bX3EWaETv4AGXHziTQGa7O3rZ7CTq8w6GGSq0j1xZGu5FZdP5d6B8v8IbZw/g+vBOtWxWJ4dhfe1KGOrOqoQ5tQ9hX6G/mmyWQByqRHs4cXaGbwpVfwe747vA4VJk8w/4cv4xD5Obrj5UwxG1/jW2j5OVziqOdQcFRpYVgFal78eSe9QjqLZKcuabaF3qSz9GqCyn9h2T/O/+EZWXfhfVvPz/ExvPwcEpp2QdtkPYHASu8gkMvW6yA/1/zfSs8gH/Ng/o6ppHeg/YW+rkFQGlrxBnqHVb2Cff/W9RCc/8Me1nPsFfvev8dl777KtYX1HIwHWM/BMBY8rZmDYTzAxsEwFrBxMIwFbBwMYwEbB8NYEIhxzGdjdLtG8OEYoQWQ3EoRpermJWJ11xhESg+yj/g2jvn4Cl/mMZyd6cGH58cINYCk0N9C3E8UiZYeZB/xZxzzMb7c/YLT40MRc7jTaA8jS6EpZYYSegM5qNdRT+GkRxC/YNvl33A630kPYoNT/9aVgHJfBa70GDZ6j13Ep3Hc4Y6cqCvTpQpXz6FihKwbH57LT0ekLWgoI3RujjSdhJh5hhVAyl/hqKdw0CM45t/wqwexwal/60pAo68GbvQYXvNfRB1fxjEn4/jx7TPunr/RXaqX6vojNPuIl8yUZ+rWPkKtvjK2OaAgV5HyVyCO13L+Ch1LPYWDHsEx/4bd+W70II64658dtvk5POa/iDr+F+Q//Sbl5Ighdvc9/NnDQGgQJl/1f7YNjeyOegS7/Btuzo8wW9d7PD6+jCN2fIbf8BlXhjXMZ/jr7jkOQ1p/iPwWst5g0CS3w1N+DnI76sv8FTQc4pORv8IJF3oE2/wbfvUgBj77N/mqFYrrpzJunTbBlvUeIeBz5ojh+OwVcP2Htua4/Au/nIX3bVVp2EbupmZO6+Ip39M1QfmgJz5wBY3KQ3c8uR1Z8pMN1yZVx4u2MfLRyC720Q0zKifMa5j3ILl0bXJREgltPy0PkKWR/yIjP8CA3JBe3jw3QW5V1WiH4/k066g5/LTygwOhB6+iMCpTO5d+/eb9oya8Fm6f1rdE7QbVhlhfJdRFuViQJ8ojao/eZ2GE+nthLNrTrTaq0vt/IAYrOtjs/o7Beg4JMbKjvaqp3i32vX+Pi/81xy5ho3cQX3WWRyOUxci9qz+s7Xv/HhnWczCMBU9r5mAY1wD/Bzg2/QNmsIDDAAAAAElFTkSuQmCC)"
      ],
      "metadata": {
        "id": "b6TwIBh_AG_e"
      }
    },
    {
      "cell_type": "code",
      "source": [
        "import pyspark\n",
        "from pyspark.sql import SparkSession"
      ],
      "metadata": {
        "id": "D9RpaElcdYDt"
      },
      "execution_count": 18,
      "outputs": []
    },
    {
      "cell_type": "code",
      "source": [
        "sc = SparkSession.builder.getOrCreate()"
      ],
      "metadata": {
        "id": "kM-vQU4BB7QU"
      },
      "execution_count": 19,
      "outputs": []
    },
    {
      "cell_type": "markdown",
      "source": [
        "read data from CSV files that match the pattern “*.csv” and returns a DataFrame"
      ],
      "metadata": {
        "id": "WU_KS53IGQXN"
      }
    },
    {
      "cell_type": "code",
      "source": [
        "sdfs = sc.read.csv(\"*.csv\", header=True)\n",
        "sdfs.show()"
      ],
      "metadata": {
        "colab": {
          "base_uri": "https://localhost:8080/"
        },
        "id": "BxnLHremDINm",
        "outputId": "f63d3e79-6d86-44b6-da6c-ff345c780464"
      },
      "execution_count": null,
      "outputs": [
        {
          "output_type": "stream",
          "name": "stdout",
          "text": [
            "+---+-------+---------+\n",
            "| id|   name|      loc|\n",
            "+---+-------+---------+\n",
            "|  1|   ravi|bangalore|\n",
            "|  2|    raj|  chennai|\n",
            "|  3| mahesh|bangalore|\n",
            "|  4| khadar|  chennai|\n",
            "|  5| prasad|     pune|\n",
            "|  6|  thors|   mumbai|\n",
            "|  7|   guts|bangalore|\n",
            "|  8|    kei|  chennai|\n",
            "|  9|  Kirei|bangalore|\n",
            "| 10|   lole|  chennai|\n",
            "| 11|  kenji|     pune|\n",
            "| 12|    ama|   mumbai|\n",
            "|  1|   ravi|bangalore|\n",
            "|  2|    raj|  chennai|\n",
            "|  3| mahesh|bangalore|\n",
            "|  4| khadar|  chennai|\n",
            "|  5| prasad|     pune|\n",
            "|  6|sridhar|   mumbai|\n",
            "+---+-------+---------+\n",
            "\n"
          ]
        }
      ]
    },
    {
      "cell_type": "markdown",
      "source": [
        "`input_file_name` is a function that creates a string column for the file name of the current Spark task. It can be used to add the file name as a column in a DataFrame:"
      ],
      "metadata": {
        "id": "CWNjN_qoFLgz"
      }
    },
    {
      "cell_type": "code",
      "source": [
        "from pyspark.sql.functions import input_file_name\n",
        "\n",
        "sdfs = sdfs.withColumn(\"Filename\", input_file_name())\n",
        "sdfs.show(truncate=False)"
      ],
      "metadata": {
        "colab": {
          "base_uri": "https://localhost:8080/"
        },
        "id": "WYKwBr6rEmuV",
        "outputId": "ed984c37-19c0-461a-bfd5-e70601e5b248"
      },
      "execution_count": null,
      "outputs": [
        {
          "output_type": "stream",
          "name": "stdout",
          "text": [
            "+---+-------+---------+---------------------------------+\n",
            "|id |name   |loc      |Filename                         |\n",
            "+---+-------+---------+---------------------------------+\n",
            "|1  |ravi   |bangalore|file:///content/customerdata2.csv|\n",
            "|2  |raj    |chennai  |file:///content/customerdata2.csv|\n",
            "|3  |mahesh |bangalore|file:///content/customerdata2.csv|\n",
            "|4  |khadar |chennai  |file:///content/customerdata2.csv|\n",
            "|5  |prasad |pune     |file:///content/customerdata2.csv|\n",
            "|6  |thors  |mumbai   |file:///content/customerdata2.csv|\n",
            "|7  |guts   |bangalore|file:///content/customerdata2.csv|\n",
            "|8  |kei    |chennai  |file:///content/customerdata2.csv|\n",
            "|9  |Kirei  |bangalore|file:///content/customerdata2.csv|\n",
            "|10 |lole   |chennai  |file:///content/customerdata2.csv|\n",
            "|11 |kenji  |pune     |file:///content/customerdata2.csv|\n",
            "|12 |ama    |mumbai   |file:///content/customerdata2.csv|\n",
            "|1  |ravi   |bangalore|file:///content/customerdata.csv |\n",
            "|2  |raj    |chennai  |file:///content/customerdata.csv |\n",
            "|3  |mahesh |bangalore|file:///content/customerdata.csv |\n",
            "|4  |khadar |chennai  |file:///content/customerdata.csv |\n",
            "|5  |prasad |pune     |file:///content/customerdata.csv |\n",
            "|6  |sridhar|mumbai   |file:///content/customerdata.csv |\n",
            "+---+-------+---------+---------------------------------+\n",
            "\n"
          ]
        }
      ]
    },
    {
      "cell_type": "code",
      "source": [
        "sdfs.groupBy(\"Filename\").count().show(truncate=False)"
      ],
      "metadata": {
        "colab": {
          "base_uri": "https://localhost:8080/"
        },
        "id": "fEsmUvIhFETU",
        "outputId": "d02e1546-0693-43e5-9e5b-35513d0de93f"
      },
      "execution_count": null,
      "outputs": [
        {
          "output_type": "stream",
          "name": "stdout",
          "text": [
            "+---------------------------------+-----+\n",
            "|Filename                         |count|\n",
            "+---------------------------------+-----+\n",
            "|file:///content/customerdata2.csv|12   |\n",
            "|file:///content/customerdata.csv |6    |\n",
            "+---------------------------------+-----+\n",
            "\n"
          ]
        }
      ]
    },
    {
      "cell_type": "markdown",
      "source": [
        "# 6.- how to get no of rows at each partition in DataFrame\n",
        "\n",
        "Dataframe with multiple partitions.\n",
        "\n",
        "How to take partition wise row count\n",
        "\n",
        "dataskew issues\n",
        "\n",
        "Data skew is a term that refers to the uneven distribution of data in a dataset or a database. Data skew can cause problems for data analysis and processing, as it can affect the accuracy, performance, and scalability of the system.\n",
        "\n",
        "There are different types of data skew, such as:\n",
        "\n",
        "* Skewness: A measure of the asymmetry of a probability distribution of a variable. A distribution can be right-skewed (positive skew) or left-skewed (negative skew) depending on which side has a longer tail.\n",
        "* Partition skew: A situation where the data is not evenly distributed across the partitions or nodes of a distributed system. This can lead to load imbalance and resource wastage.\n",
        "* Processing skew: A situation where some partitions or nodes take longer than others to process the data, usually due to data skew or complex operations."
      ],
      "metadata": {
        "id": "epmjDRrdGfXL"
      }
    },
    {
      "cell_type": "code",
      "source": [
        "sdfs = sc.read.csv(\"*.csv\", header=True)\n",
        "sdfs.show()"
      ],
      "metadata": {
        "colab": {
          "base_uri": "https://localhost:8080/"
        },
        "id": "G8V380laFaTM",
        "outputId": "f9f6f41b-3dd0-48da-8460-967f7a64fe2f"
      },
      "execution_count": null,
      "outputs": [
        {
          "output_type": "stream",
          "name": "stdout",
          "text": [
            "+---+-------+---------+\n",
            "| id|   name|      loc|\n",
            "+---+-------+---------+\n",
            "|  1|   ravi|bangalore|\n",
            "|  2|    raj|  chennai|\n",
            "|  3| mahesh|bangalore|\n",
            "|  4| khadar|  chennai|\n",
            "|  5| prasad|     pune|\n",
            "|  6|  thors|   mumbai|\n",
            "|  7|   guts|bangalore|\n",
            "|  8|    kei|  chennai|\n",
            "|  9|  Kirei|bangalore|\n",
            "| 10|   lole|  chennai|\n",
            "| 11|  kenji|     pune|\n",
            "| 12|    ama|   mumbai|\n",
            "|  1|   ravi|bangalore|\n",
            "|  2|    raj|  chennai|\n",
            "|  3| mahesh|bangalore|\n",
            "|  4| khadar|  chennai|\n",
            "|  5| prasad|     pune|\n",
            "|  6|sridhar|   mumbai|\n",
            "+---+-------+---------+\n",
            "\n"
          ]
        }
      ]
    },
    {
      "cell_type": "markdown",
      "source": [
        "A partition is a logical chunk of data that is distributed across the nodes of a cluster for parallel processing. The getNumPartitions method is a method of the RDD class that returns an integer value representing the number of partitions in the RDD"
      ],
      "metadata": {
        "id": "y4k2WNNDH-Hh"
      }
    },
    {
      "cell_type": "code",
      "source": [
        "print(sdfs.rdd.getNumPartitions())"
      ],
      "metadata": {
        "colab": {
          "base_uri": "https://localhost:8080/"
        },
        "id": "YzTD6Rp6Hq1G",
        "outputId": "1ade5191-e205-4cdb-b07d-956414293418"
      },
      "execution_count": null,
      "outputs": [
        {
          "output_type": "stream",
          "name": "stdout",
          "text": [
            "2\n"
          ]
        }
      ]
    },
    {
      "cell_type": "markdown",
      "source": [
        "This line of code imports the `spark_partition_id` function from the `pyspark.sql.functions` module. The spark_partition_id function is a function that creates a column for the partition ID of the current Spark task1. It can be used to add the partition ID as a column in a DataFrame"
      ],
      "metadata": {
        "id": "WeCes0fYIkkf"
      }
    },
    {
      "cell_type": "code",
      "source": [
        "from pyspark.sql.functions import spark_partition_id\n",
        "\n",
        "sdfs.select(spark_partition_id().alias(\"part_id\")).groupBy(\"part_id\").count().show()"
      ],
      "metadata": {
        "colab": {
          "base_uri": "https://localhost:8080/"
        },
        "id": "hURSzwPBH__N",
        "outputId": "c45eeeb2-fa6c-4d15-95c5-5adb962bcefb"
      },
      "execution_count": null,
      "outputs": [
        {
          "output_type": "stream",
          "name": "stdout",
          "text": [
            "+-------+-----+\n",
            "|part_id|count|\n",
            "+-------+-----+\n",
            "|      0|   12|\n",
            "|      1|    6|\n",
            "+-------+-----+\n",
            "\n"
          ]
        }
      ]
    },
    {
      "cell_type": "markdown",
      "source": [
        "# 7.- How to add a Sequence generated surrogate key as a column in dataframe\n",
        "\n",
        "A sequence ID and a surrogate key are both ways of generating unique identifiers for each record in a table. A sequence ID is a number that increments by one for each new record, while a surrogate key is a system-generated value that may not have any meaning or relation to the data.\n",
        "\n",
        "In Spark, you can use different methods to create sequence IDs or surrogate keys for your tables. One method is to use the monotonically_increasing_id function, which returns a unique and increasing value for each row1. Another method is to use the identity column feature in Delta Lake, which automatically generates a unique and auto-incrementing ID number for each new row of data2. Both methods require you to specify the column name and type when creating the table.\n",
        "\n",
        "Using sequence IDs or surrogate keys has some **advantages and disadvantages**, depending on your data and requirements. Here are some of them:\n",
        "\n",
        "**Advantages:**\n",
        "\n",
        "They simplify the data integration process, as they are independent of the source data and can handle changes or inconsistencies in the source keys1.\n",
        "They improve the performance and scalability of the system, as they are numeric and sequential, which makes them easy to index and join. They also reduce the size of the data warehouse tables, as they are shorter and more compact than the source keys12.\n",
        "They enable historical analysis, as they can preserve the history of changes in the source data by creating new rows with new keys when the source data is updated or deleted1.\n",
        "\n",
        "\n",
        "**Disadvantages:**\n",
        "\n",
        "They add complexity and overhead to the data modeling and management process, as they are artificial and meaningless, which makes them harder to understand and document. They also require additional steps and tools to generate and maintain them12.\n",
        "They may not be unique across different tables or systems, as they are generated locally and may have collisions or gaps. This can cause problems when merging or migrating data from different sources2.\n",
        "They may not reflect the natural order or hierarchy of the data, as they are arbitrary and unrelated to the data values. This can make it difficult to perform some types of analysis or reporting that rely on the natural keys2."
      ],
      "metadata": {
        "id": "MXDosAzskjmV"
      }
    },
    {
      "cell_type": "code",
      "source": [
        "sdf_emp = sc.read.option(\"nullValue\", \"null\").csv(\"emp.csv\", header=True, inferSchema=True).dropna(how=\"all\").dropDuplicates([\"EMPNO\"])\n",
        "sdf_emp.show()"
      ],
      "metadata": {
        "colab": {
          "base_uri": "https://localhost:8080/"
        },
        "id": "bVabjtxkkipi",
        "outputId": "4fdcee9b-13d2-43fc-b35d-0b971ff6172c"
      },
      "execution_count": 20,
      "outputs": [
        {
          "output_type": "stream",
          "name": "stdout",
          "text": [
            "+-----+------+---------+----+----------+----+----+------+------------+\n",
            "|EMPNO| ENAME|      JOB| MGR|  HIREDATE| SAL|COMM|DEPTNO|UPDATED_DATE|\n",
            "+-----+------+---------+----+----------+----+----+------+------------+\n",
            "| 1234|SEKHAR|   doctor|7777|      null| 667|  78|    80|  2022-01-03|\n",
            "| 7369| SMITH|    CLERK|7902|17-12-1980| 800|null|    20|  2022-01-01|\n",
            "| 7499| ALLEN| SALESMAN|7698|20-02-1981|1600| 300|    30|  2022-01-01|\n",
            "| 7521|  WARD| SALESMAN|7698|22-02-1981|1250| 500|    30|  2022-01-01|\n",
            "| 7566| JONES|  MANAGER|7839|04-02-1981|2975|null|    20|  2022-01-05|\n",
            "| 7654|MARTIN| SALESMAN|7698|21-09-1981|1250|1400|    30|  2022-01-03|\n",
            "| 7698|   SGR|  MANAGER|7839|05-01-1981|2850|null|    30|  2022-01-04|\n",
            "| 7782|  RAVI|  MANAGER|7839|06-09-1981|2450|null|    10|  2022-01-02|\n",
            "| 7788| SCOTT|  ANALYST|7566|19-04-1987|3000|null|    20|  2022-01-02|\n",
            "| 7839|  KING|PRESIDENT|null|01-11-1981|5000|null|    10|  2022-01-02|\n",
            "| 7844|TURNER| SALESMAN|7698|09-08-1981|1500|   0|    30|  2022-01-02|\n",
            "| 7876| ADAMS|    CLERK|7788|23-05-1987|1100|null|    20|  2022-01-03|\n",
            "| 7900| JAMES|    CLERK|7698|12-03-1981| 950|null|    30|  2022-01-03|\n",
            "| 7902|  FORD|  ANALYST|7566|12-03-1981|3000|null|    20|  2022-01-03|\n",
            "| 7934|MILLER|    CLERK|7782|01-03-1982|1300|null|    10|  2022-01-03|\n",
            "+-----+------+---------+----+----------+----+----+------+------------+\n",
            "\n"
          ]
        }
      ]
    },
    {
      "cell_type": "markdown",
      "source": [
        "The `monotonically_increasing_id` function is a Spark SQL function that returns a unique and increasing value for each row in a DataFrame. The value is a 64-bit integer that is composed of the partition ID in the upper 31 bits and the record number within each partition in the lower 33 bits. The function is guaranteed to be monotonically increasing and unique, but not consecutive.\n",
        "\n",
        "The function can be used to generate sequence IDs or surrogate keys for your tables, but it has some limitations and risks. For example, the function is non-deterministic, which means that its result depends on the partition IDs and may change if the DataFrame is repartitioned or shuffled. The function also assumes that the DataFrame has less than 1 billion partitions and each partition has less than 8 billion records, which may not hold for very large or skewed data. The function also does not reflect the natural order or hierarchy of the data, as it is unrelated to the data values."
      ],
      "metadata": {
        "id": "LuXtYaXbnDW2"
      }
    },
    {
      "cell_type": "code",
      "source": [
        "from pyspark.sql.functions import monotonically_increasing_id\n",
        "\n",
        "sdf_emp = sdf_emp.withColumn(\"id\", monotonically_increasing_id())\n",
        "sdf_emp.show()"
      ],
      "metadata": {
        "colab": {
          "base_uri": "https://localhost:8080/"
        },
        "id": "2-Ghij4LmYMw",
        "outputId": "399cf946-1a68-4619-e10a-c185d1426b27"
      },
      "execution_count": 21,
      "outputs": [
        {
          "output_type": "stream",
          "name": "stdout",
          "text": [
            "+-----+------+---------+----+----------+----+----+------+------------+---+\n",
            "|EMPNO| ENAME|      JOB| MGR|  HIREDATE| SAL|COMM|DEPTNO|UPDATED_DATE| id|\n",
            "+-----+------+---------+----+----------+----+----+------+------------+---+\n",
            "| 1234|SEKHAR|   doctor|7777|      null| 667|  78|    80|  2022-01-03|  0|\n",
            "| 7369| SMITH|    CLERK|7902|17-12-1980| 800|null|    20|  2022-01-01|  1|\n",
            "| 7499| ALLEN| SALESMAN|7698|20-02-1981|1600| 300|    30|  2022-01-01|  2|\n",
            "| 7521|  WARD| SALESMAN|7698|22-02-1981|1250| 500|    30|  2022-01-01|  3|\n",
            "| 7566| JONES|  MANAGER|7839|04-02-1981|2975|null|    20|  2022-01-05|  4|\n",
            "| 7654|MARTIN| SALESMAN|7698|21-09-1981|1250|1400|    30|  2022-01-03|  5|\n",
            "| 7698|   SGR|  MANAGER|7839|05-01-1981|2850|null|    30|  2022-01-04|  6|\n",
            "| 7782|  RAVI|  MANAGER|7839|06-09-1981|2450|null|    10|  2022-01-02|  7|\n",
            "| 7788| SCOTT|  ANALYST|7566|19-04-1987|3000|null|    20|  2022-01-02|  8|\n",
            "| 7839|  KING|PRESIDENT|null|01-11-1981|5000|null|    10|  2022-01-02|  9|\n",
            "| 7844|TURNER| SALESMAN|7698|09-08-1981|1500|   0|    30|  2022-01-02| 10|\n",
            "| 7876| ADAMS|    CLERK|7788|23-05-1987|1100|null|    20|  2022-01-03| 11|\n",
            "| 7900| JAMES|    CLERK|7698|12-03-1981| 950|null|    30|  2022-01-03| 12|\n",
            "| 7902|  FORD|  ANALYST|7566|12-03-1981|3000|null|    20|  2022-01-03| 13|\n",
            "| 7934|MILLER|    CLERK|7782|01-03-1982|1300|null|    10|  2022-01-03| 14|\n",
            "+-----+------+---------+----+----------+----+----+------+------------+---+\n",
            "\n"
          ]
        }
      ]
    },
    {
      "cell_type": "markdown",
      "source": [
        "The `row_number` function is a Spark SQL window function that returns a sequential number starting at 1 within a window partition. The window partition can be specified by using the Window class and its methods, such as partitionBy and `orderBy`. The function can be used to assign row numbers to each row in a DataFrame based on some criteria.\n",
        "\n",
        "The `lit` function is a Spark SQL function that creates a column of literal value. The literal value can be any constant, such as a string, a number, or a boolean. The function can be used to add a new column to a DataFrame by assigning a literal value to each row."
      ],
      "metadata": {
        "id": "KZA0fjryoV5h"
      }
    },
    {
      "cell_type": "code",
      "source": [
        "from pyspark.sql.functions import row_number, lit\n",
        "from pyspark.sql.window import Window\n",
        "\n",
        "sdf_emp = sdf_emp.withColumn(\"row_number\", row_number().over(Window.partitionBy(lit(\"\")).orderBy(lit(\"\"))))\n",
        "sdf_emp.show()"
      ],
      "metadata": {
        "colab": {
          "base_uri": "https://localhost:8080/"
        },
        "id": "9x4KRhNbm84n",
        "outputId": "745d7de5-4fd3-42a6-fae9-fc18a04f51ec"
      },
      "execution_count": 22,
      "outputs": [
        {
          "output_type": "stream",
          "name": "stdout",
          "text": [
            "+-----+------+---------+----+----------+----+----+------+------------+---+----------+\n",
            "|EMPNO| ENAME|      JOB| MGR|  HIREDATE| SAL|COMM|DEPTNO|UPDATED_DATE| id|row_number|\n",
            "+-----+------+---------+----+----------+----+----+------+------------+---+----------+\n",
            "| 1234|SEKHAR|   doctor|7777|      null| 667|  78|    80|  2022-01-03|  0|         1|\n",
            "| 7369| SMITH|    CLERK|7902|17-12-1980| 800|null|    20|  2022-01-01|  1|         2|\n",
            "| 7499| ALLEN| SALESMAN|7698|20-02-1981|1600| 300|    30|  2022-01-01|  2|         3|\n",
            "| 7521|  WARD| SALESMAN|7698|22-02-1981|1250| 500|    30|  2022-01-01|  3|         4|\n",
            "| 7566| JONES|  MANAGER|7839|04-02-1981|2975|null|    20|  2022-01-05|  4|         5|\n",
            "| 7654|MARTIN| SALESMAN|7698|21-09-1981|1250|1400|    30|  2022-01-03|  5|         6|\n",
            "| 7698|   SGR|  MANAGER|7839|05-01-1981|2850|null|    30|  2022-01-04|  6|         7|\n",
            "| 7782|  RAVI|  MANAGER|7839|06-09-1981|2450|null|    10|  2022-01-02|  7|         8|\n",
            "| 7788| SCOTT|  ANALYST|7566|19-04-1987|3000|null|    20|  2022-01-02|  8|         9|\n",
            "| 7839|  KING|PRESIDENT|null|01-11-1981|5000|null|    10|  2022-01-02|  9|        10|\n",
            "| 7844|TURNER| SALESMAN|7698|09-08-1981|1500|   0|    30|  2022-01-02| 10|        11|\n",
            "| 7876| ADAMS|    CLERK|7788|23-05-1987|1100|null|    20|  2022-01-03| 11|        12|\n",
            "| 7900| JAMES|    CLERK|7698|12-03-1981| 950|null|    30|  2022-01-03| 12|        13|\n",
            "| 7902|  FORD|  ANALYST|7566|12-03-1981|3000|null|    20|  2022-01-03| 13|        14|\n",
            "| 7934|MILLER|    CLERK|7782|01-03-1982|1300|null|    10|  2022-01-03| 14|        15|\n",
            "+-----+------+---------+----+----------+----+----+------+------------+---+----------+\n",
            "\n"
          ]
        }
      ]
    },
    {
      "cell_type": "markdown",
      "source": [
        "The `crc32` function in Spark is a built-in function that calculates the cyclic redundancy check value (CRC32) of a binary column and returns the value as a bigint. A CRC32 is a type of hash function that uses a polynomial division algorithm to convert data of any length into a fixed-length binary sequence. It is used to detect changes or errors in data transmission or storage.\n",
        "\n",
        "The crc32 function can be used in Spark SQL or in the DataFrame API"
      ],
      "metadata": {
        "id": "y9OSWr_Pp8pm"
      }
    },
    {
      "cell_type": "code",
      "source": [
        "#It can generate duplicates 100k or 200k records\n",
        "from pyspark.sql.functions import crc32, col\n",
        "\n",
        "sdf_emp = sdf_emp.withColumn(\"crc32_key\", crc32(col(\"EMPNO\").cast(\"string\")))\n",
        "sdf_emp.show()"
      ],
      "metadata": {
        "colab": {
          "base_uri": "https://localhost:8080/"
        },
        "id": "UaUzmwUlpC6p",
        "outputId": "ab78b11f-5c9d-4581-e869-d0e614ca3467"
      },
      "execution_count": 23,
      "outputs": [
        {
          "output_type": "stream",
          "name": "stdout",
          "text": [
            "+-----+------+---------+----+----------+----+----+------+------------+---+----------+----------+\n",
            "|EMPNO| ENAME|      JOB| MGR|  HIREDATE| SAL|COMM|DEPTNO|UPDATED_DATE| id|row_number| crc32_key|\n",
            "+-----+------+---------+----+----------+----+----+------+------------+---+----------+----------+\n",
            "| 1234|SEKHAR|   doctor|7777|      null| 667|  78|    80|  2022-01-03|  0|         1|2615402659|\n",
            "| 7369| SMITH|    CLERK|7902|17-12-1980| 800|null|    20|  2022-01-01|  1|         2|3163315632|\n",
            "| 7499| ALLEN| SALESMAN|7698|20-02-1981|1600| 300|    30|  2022-01-01|  2|         3|1046173690|\n",
            "| 7521|  WARD| SALESMAN|7698|22-02-1981|1250| 500|    30|  2022-01-01|  3|         4|3535170612|\n",
            "| 7566| JONES|  MANAGER|7839|04-02-1981|2975|null|    20|  2022-01-05|  4|         5| 683555987|\n",
            "| 7654|MARTIN| SALESMAN|7698|21-09-1981|1250|1400|    30|  2022-01-03|  5|         6|4024152101|\n",
            "| 7698|   SGR|  MANAGER|7839|05-01-1981|2850|null|    30|  2022-01-04|  6|         7|1255715586|\n",
            "| 7782|  RAVI|  MANAGER|7839|06-09-1981|2450|null|    10|  2022-01-02|  7|         8|3000238442|\n",
            "| 7788| SCOTT|  ANALYST|7566|19-04-1987|3000|null|    20|  2022-01-02|  8|         9|1375856756|\n",
            "| 7839|  KING|PRESIDENT|null|01-11-1981|5000|null|    10|  2022-01-02|  9|        10|3450750484|\n",
            "| 7844|TURNER| SALESMAN|7698|09-08-1981|1500|   0|    30|  2022-01-02| 10|        11|4234062958|\n",
            "| 7876| ADAMS|    CLERK|7788|23-05-1987|1100|null|    20|  2022-01-03| 11|        12| 964533889|\n",
            "| 7900| JAMES|    CLERK|7698|12-03-1981| 950|null|    30|  2022-01-03| 12|        13|2661140292|\n",
            "| 7902|  FORD|  ANALYST|7566|12-03-1981|3000|null|    20|  2022-01-03| 13|        14|1888724584|\n",
            "| 7934|MILLER|    CLERK|7782|01-03-1982|1300|null|    10|  2022-01-03| 14|        15|3000848542|\n",
            "+-----+------+---------+----+----------+----+----+------+------------+---+----------+----------+\n",
            "\n"
          ]
        }
      ]
    },
    {
      "cell_type": "markdown",
      "source": [
        "The md5 function in Spark is a built-in function that calculates the MD5 digest and returns the value as a 32 character hex string. MD5 is a commonly used message digest algorithm that uses a polynomial division algorithm to convert data of any length into a 128-bit binary sequence. It is used to detect changes or errors in data transmission or storage."
      ],
      "metadata": {
        "id": "liz5poKpq0Od"
      }
    },
    {
      "cell_type": "code",
      "source": [
        "from pyspark.sql.functions import md5\n",
        "\n",
        "sdf_emp = sdf_emp.withColumn(\"md5_key\", md5(col(\"EMPNO\").cast(\"string\")))\n",
        "sdf_emp.show()"
      ],
      "metadata": {
        "colab": {
          "base_uri": "https://localhost:8080/"
        },
        "id": "4P21VZohqSH6",
        "outputId": "52b6baf9-4ff4-48d2-a66d-398d3d78fde3"
      },
      "execution_count": 24,
      "outputs": [
        {
          "output_type": "stream",
          "name": "stdout",
          "text": [
            "+-----+------+---------+----+----------+----+----+------+------------+---+----------+----------+--------------------+\n",
            "|EMPNO| ENAME|      JOB| MGR|  HIREDATE| SAL|COMM|DEPTNO|UPDATED_DATE| id|row_number| crc32_key|             md5_key|\n",
            "+-----+------+---------+----+----------+----+----+------+------------+---+----------+----------+--------------------+\n",
            "| 1234|SEKHAR|   doctor|7777|      null| 667|  78|    80|  2022-01-03|  0|         1|2615402659|81dc9bdb52d04dc20...|\n",
            "| 7369| SMITH|    CLERK|7902|17-12-1980| 800|null|    20|  2022-01-01|  1|         2|3163315632|0d7f9017fbda69190...|\n",
            "| 7499| ALLEN| SALESMAN|7698|20-02-1981|1600| 300|    30|  2022-01-01|  2|         3|1046173690|7a2b33c672ce223b2...|\n",
            "| 7521|  WARD| SALESMAN|7698|22-02-1981|1250| 500|    30|  2022-01-01|  3|         4|3535170612|e1e1f667ce4596e56...|\n",
            "| 7566| JONES|  MANAGER|7839|04-02-1981|2975|null|    20|  2022-01-05|  4|         5| 683555987|b937384a573b94c4d...|\n",
            "| 7654|MARTIN| SALESMAN|7698|21-09-1981|1250|1400|    30|  2022-01-03|  5|         6|4024152101|e2a7555f7cabd6e31...|\n",
            "| 7698|   SGR|  MANAGER|7839|05-01-1981|2850|null|    30|  2022-01-04|  6|         7|1255715586|c570c225d1fb8a72a...|\n",
            "| 7782|  RAVI|  MANAGER|7839|06-09-1981|2450|null|    10|  2022-01-02|  7|         8|3000238442|ac5c482277858d6fe...|\n",
            "| 7788| SCOTT|  ANALYST|7566|19-04-1987|3000|null|    20|  2022-01-02|  8|         9|1375856756|866c7ee013c58f01f...|\n",
            "| 7839|  KING|PRESIDENT|null|01-11-1981|5000|null|    10|  2022-01-02|  9|        10|3450750484|ca91c5464e73d3066...|\n",
            "| 7844|TURNER| SALESMAN|7698|09-08-1981|1500|   0|    30|  2022-01-02| 10|        11|4234062958|b356e7aed7ee82589...|\n",
            "| 7876| ADAMS|    CLERK|7788|23-05-1987|1100|null|    20|  2022-01-03| 11|        12| 964533889|42dab56861d81108e...|\n",
            "| 7900| JAMES|    CLERK|7698|12-03-1981| 950|null|    30|  2022-01-03| 12|        13|2661140292|400c3241004b5db7c...|\n",
            "| 7902|  FORD|  ANALYST|7566|12-03-1981|3000|null|    20|  2022-01-03| 13|        14|1888724584|66fe2bcc701bb627e...|\n",
            "| 7934|MILLER|    CLERK|7782|01-03-1982|1300|null|    10|  2022-01-03| 14|        15|3000848542|6c90885b28e58d1f4...|\n",
            "+-----+------+---------+----+----------+----+----+------+------------+---+----------+----------+--------------------+\n",
            "\n"
          ]
        }
      ]
    },
    {
      "cell_type": "markdown",
      "source": [
        "The sha2 function in Spark is a built-in function that returns the hex string result of SHA-2 family of hash functions (SHA-224, SHA-256, SHA-384, and SHA-512). SHA-2 is a set of cryptographic hash functions that use a polynomial division algorithm to convert data of any length into a fixed-length binary sequence. It is used to verify the integrity and authenticity of data transmission or storage.\n",
        "\n",
        "The sha2 function can be used in Spark SQL or in the DataFrame API. The function takes two arguments: the input expression and the desired bit length of the result, which must have a value of 224, 256, 384, 512, or 0 (which is equivalent to 256)."
      ],
      "metadata": {
        "id": "zmIpsAwtrkwU"
      }
    },
    {
      "cell_type": "code",
      "source": [
        "from pyspark.sql.functions import sha2\n",
        "\n",
        "sdf_emp = sdf_emp.withColumn(\"sha2_key\", sha2(col(\"EMPNO\").cast(\"string\"), 256))\n",
        "sdf_emp.show()"
      ],
      "metadata": {
        "colab": {
          "base_uri": "https://localhost:8080/"
        },
        "id": "CnvisdWZrKeZ",
        "outputId": "9d8bf5ea-510a-4f68-fc20-6d6e5a3c12a8"
      },
      "execution_count": 25,
      "outputs": [
        {
          "output_type": "stream",
          "name": "stdout",
          "text": [
            "+-----+------+---------+----+----------+----+----+------+------------+---+----------+----------+--------------------+--------------------+\n",
            "|EMPNO| ENAME|      JOB| MGR|  HIREDATE| SAL|COMM|DEPTNO|UPDATED_DATE| id|row_number| crc32_key|             md5_key|            sha2_key|\n",
            "+-----+------+---------+----+----------+----+----+------+------------+---+----------+----------+--------------------+--------------------+\n",
            "| 1234|SEKHAR|   doctor|7777|      null| 667|  78|    80|  2022-01-03|  0|         1|2615402659|81dc9bdb52d04dc20...|03ac674216f3e15c7...|\n",
            "| 7369| SMITH|    CLERK|7902|17-12-1980| 800|null|    20|  2022-01-01|  1|         2|3163315632|0d7f9017fbda69190...|c59f438f16c5a409e...|\n",
            "| 7499| ALLEN| SALESMAN|7698|20-02-1981|1600| 300|    30|  2022-01-01|  2|         3|1046173690|7a2b33c672ce223b2...|4427dc2e32a1d099d...|\n",
            "| 7521|  WARD| SALESMAN|7698|22-02-1981|1250| 500|    30|  2022-01-01|  3|         4|3535170612|e1e1f667ce4596e56...|74ed8ca63e8b4fb8b...|\n",
            "| 7566| JONES|  MANAGER|7839|04-02-1981|2975|null|    20|  2022-01-05|  4|         5| 683555987|b937384a573b94c4d...|b2ca4f93866dc5f5a...|\n",
            "| 7654|MARTIN| SALESMAN|7698|21-09-1981|1250|1400|    30|  2022-01-03|  5|         6|4024152101|e2a7555f7cabd6e31...|b969b01c158ebfecd...|\n",
            "| 7698|   SGR|  MANAGER|7839|05-01-1981|2850|null|    30|  2022-01-04|  6|         7|1255715586|c570c225d1fb8a72a...|83f9d8d707524a4f5...|\n",
            "| 7782|  RAVI|  MANAGER|7839|06-09-1981|2450|null|    10|  2022-01-02|  7|         8|3000238442|ac5c482277858d6fe...|d7b6fab9aa91943de...|\n",
            "| 7788| SCOTT|  ANALYST|7566|19-04-1987|3000|null|    20|  2022-01-02|  8|         9|1375856756|866c7ee013c58f01f...|16740bf13991fe083...|\n",
            "| 7839|  KING|PRESIDENT|null|01-11-1981|5000|null|    10|  2022-01-02|  9|        10|3450750484|ca91c5464e73d3066...|cc87d27285025584d...|\n",
            "| 7844|TURNER| SALESMAN|7698|09-08-1981|1500|   0|    30|  2022-01-02| 10|        11|4234062958|b356e7aed7ee82589...|b513a7ff5978b9588...|\n",
            "| 7876| ADAMS|    CLERK|7788|23-05-1987|1100|null|    20|  2022-01-03| 11|        12| 964533889|42dab56861d81108e...|05a4cd58579909328...|\n",
            "| 7900| JAMES|    CLERK|7698|12-03-1981| 950|null|    30|  2022-01-03| 12|        13|2661140292|400c3241004b5db7c...|22191a9215264bb24...|\n",
            "| 7902|  FORD|  ANALYST|7566|12-03-1981|3000|null|    20|  2022-01-03| 13|        14|1888724584|66fe2bcc701bb627e...|7b721c50ff0220bb9...|\n",
            "| 7934|MILLER|    CLERK|7782|01-03-1982|1300|null|    10|  2022-01-03| 14|        15|3000848542|6c90885b28e58d1f4...|6a25547cf30b010a2...|\n",
            "+-----+------+---------+----+----------+----+----+------+------------+---+----------+----------+--------------------+--------------------+\n",
            "\n"
          ]
        }
      ]
    },
    {
      "cell_type": "markdown",
      "source": [
        "# 8.- How to get Individual column wise null records count / How to get No of null rows at each column from a dataframe\n",
        "\n"
      ],
      "metadata": {
        "id": "I3kdBOkvskL_"
      }
    },
    {
      "cell_type": "code",
      "source": [
        "sdf_emp = sc.read.option(\"nullValue\", \"null\").csv(\"emp.csv\", header=True, inferSchema=True)\n",
        "sdf_emp.show()"
      ],
      "metadata": {
        "colab": {
          "base_uri": "https://localhost:8080/"
        },
        "id": "dodPK25or6bi",
        "outputId": "25a5e639-95b6-47d1-863d-be12aedf9051"
      },
      "execution_count": 26,
      "outputs": [
        {
          "output_type": "stream",
          "name": "stdout",
          "text": [
            "+-----+------+---------+----+----------+----+----+------+------------+\n",
            "|EMPNO| ENAME|      JOB| MGR|  HIREDATE| SAL|COMM|DEPTNO|UPDATED_DATE|\n",
            "+-----+------+---------+----+----------+----+----+------+------------+\n",
            "| 7369| SMITH|    CLERK|7902|17-12-1980| 800|null|    20|  2022-01-01|\n",
            "| 7499| ALLEN| SALESMAN|7698|20-02-1981|1600| 300|    30|  2022-01-01|\n",
            "| 7521|  WARD| SALESMAN|7698|22-02-1981|1250| 500|    30|  2022-01-01|\n",
            "| 7566| JONES|  MANAGER|7839|04-02-1981|2975|null|    20|  2022-01-05|\n",
            "| 7654|MARTIN| SALESMAN|7698|21-09-1981|1250|1400|    30|  2022-01-03|\n",
            "| 7698|   SGR|  MANAGER|7839|05-01-1981|2850|null|    30|  2022-01-04|\n",
            "| 7782|  RAVI|  MANAGER|7839|06-09-1981|2450|null|    10|  2022-01-02|\n",
            "| 7788| SCOTT|  ANALYST|7566|19-04-1987|3000|null|    20|  2022-01-02|\n",
            "| 7839|  KING|PRESIDENT|null|01-11-1981|5000|null|    10|  2022-01-02|\n",
            "| 7844|TURNER| SALESMAN|7698|09-08-1981|1500|   0|    30|  2022-01-02|\n",
            "| 7876| ADAMS|    CLERK|7788|23-05-1987|1100|null|    20|  2022-01-03|\n",
            "| 7900| JAMES|    CLERK|7698|12-03-1981| 950|null|    30|  2022-01-03|\n",
            "| 7902|  FORD|  ANALYST|7566|12-03-1981|3000|null|    20|  2022-01-03|\n",
            "| 7934|MILLER|    CLERK|7782|01-03-1982|1300|null|    10|  2022-01-03|\n",
            "| 1234|SEKHAR|   doctor|7777|      null| 667|  78|    80|  2022-01-03|\n",
            "| 7369| SMITH|    CLERK|7902|17-12-1980| 800|null|    20|  2022-01-04|\n",
            "| 7499| ALLEN| SALESMAN|7698|20-02-1981|1600| 300|    30|  2022-01-04|\n",
            "| 7521|  WARD| SALESMAN|7698|22-02-1981|1250| 500|    30|  2022-01-04|\n",
            "| 7566| JONES|  MANAGER|7839|04-02-1981|2975|null|    20|  2022-01-04|\n",
            "| 7654|MARTIN| SALESMAN|7698|21-09-1981|1250|1400|    30|  2022-01-05|\n",
            "+-----+------+---------+----+----------+----+----+------+------------+\n",
            "only showing top 20 rows\n",
            "\n"
          ]
        }
      ]
    },
    {
      "cell_type": "code",
      "source": [
        "sdf_emp.filter(\"mgr is null\").count()"
      ],
      "metadata": {
        "colab": {
          "base_uri": "https://localhost:8080/"
        },
        "id": "WqEx0h09tY-N",
        "outputId": "0e9e044c-abef-4998-dc77-e6b93a659b1c"
      },
      "execution_count": 31,
      "outputs": [
        {
          "output_type": "execute_result",
          "data": {
            "text/plain": [
              "5"
            ]
          },
          "metadata": {},
          "execution_count": 31
        }
      ]
    },
    {
      "cell_type": "markdown",
      "source": [
        "The `count` function in Spark is an aggregate function that returns the number of items in a group. The count function can take a column name or an expression as an argument and returns a bigint value. The count function can be used in Spark SQL or in the DataFrame API.\n",
        "\n",
        "The `when` function in Spark is a conditional function that evaluates a list of conditions and returns one of multiple possible result expressions. The when function can take two arguments: a condition and a value. The when function can be chained with the otherwise function to specify the default value when none of the conditions are met. The when function can be used in Spark SQL or in the DataFrame API.  If the condition is not met, the function returns None, unless `pyspark.sql.Column.otherwise()` is invoked to specify a default value."
      ],
      "metadata": {
        "id": "vmnn-1bxvoCz"
      }
    },
    {
      "cell_type": "code",
      "source": [
        "from pyspark.sql.functions import count, col, when\n",
        "\n",
        "sdf_emp.select([count(when(col(column).isNull(), column)).alias(column) for column in sdf_emp.columns]).show()"
      ],
      "metadata": {
        "colab": {
          "base_uri": "https://localhost:8080/"
        },
        "id": "EwMSzMlHtkgn",
        "outputId": "3203c839-651e-4c0c-d24f-146a47846981"
      },
      "execution_count": 33,
      "outputs": [
        {
          "output_type": "stream",
          "name": "stdout",
          "text": [
            "+-----+-----+---+---+--------+---+----+------+------------+\n",
            "|EMPNO|ENAME|JOB|MGR|HIREDATE|SAL|COMM|DEPTNO|UPDATED_DATE|\n",
            "+-----+-----+---+---+--------+---+----+------+------------+\n",
            "|    3|    3|  3|  5|       5|  3|  23|     3|           3|\n",
            "+-----+-----+---+---+--------+---+----+------+------------+\n",
            "\n"
          ]
        }
      ]
    },
    {
      "cell_type": "markdown",
      "source": [
        "To use the when function with complex conditions, you can use the following tips:\n",
        "\n",
        "Use parentheses to enclose each condition and expression to avoid ambiguity and enforce the desired operator precedence.\n",
        "Use & (bitwise AND) and | (bitwise OR) operators to combine multiple conditions, as they have higher precedence than comparison operators12. Do not use and and or operators, as they are not supported for column expressions.\n",
        "Use ~ (bitwise NOT) operator to negate a condition, as it has higher precedence than comparison operators2.\n",
        "Use isNull(), isNotNull(), or isin() methods to check for null values, missing values, or multiple values in a column3.\n",
        "Use between() method to check if a column value is within a range of values."
      ],
      "metadata": {
        "id": "j-LMNyAfxG-I"
      }
    },
    {
      "cell_type": "code",
      "source": [],
      "metadata": {
        "id": "_pLGKtf6ubUY"
      },
      "execution_count": null,
      "outputs": []
    }
  ]
}